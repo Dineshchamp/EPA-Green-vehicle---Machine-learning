{
 "cells": [
  {
   "cell_type": "markdown",
   "metadata": {},
   "source": [
    "### importing libraries "
   ]
  },
  {
   "cell_type": "code",
   "execution_count": 2407,
   "metadata": {},
   "outputs": [
    {
     "name": "stdout",
     "output_type": "stream",
     "text": [
      "All packages installed\n"
     ]
    }
   ],
   "source": [
    "#Importing basic libraries\n",
    "\n",
    "import pandas as pd\n",
    "import numpy as np\n",
    "import seaborn as sns\n",
    "import sklearn\n",
    "from sklearn import preprocessing\n",
    "from sklearn.model_selection import train_test_split\n",
    "from matplotlib import pyplot as plt\n",
    "\n",
    "print(\"All packages installed\")"
   ]
  },
  {
   "cell_type": "markdown",
   "metadata": {},
   "source": [
    "### importing dataset from 2008 - 2018"
   ]
  },
  {
   "cell_type": "code",
   "execution_count": 2408,
   "metadata": {},
   "outputs": [
    {
     "name": "stdout",
     "output_type": "stream",
     "text": [
      "All dataset has been imported to dataframe\n"
     ]
    }
   ],
   "source": [
    "\n",
    "\n",
    "df_8_orginal= pd.read_csv(r\"C:\\Users\\dineshkumar.a03\\Desktop\\Capstone dataset\\all_alpha_08.csv\")\n",
    "df_9_orginal= pd.read_csv(r\"C:\\Users\\dineshkumar.a03\\Desktop\\Capstone dataset\\all_alpha_09.csv\")\n",
    "df_10_orginal= pd.read_csv(r\"C:\\Users\\dineshkumar.a03\\Desktop\\Capstone dataset\\all_alpha_10.csv\")\n",
    "df_11_orginal= pd.read_csv(r\"C:\\Users\\dineshkumar.a03\\Desktop\\Capstone dataset\\all_alpha_11.csv\")\n",
    "df_12_orginal= pd.read_csv(r\"C:\\Users\\dineshkumar.a03\\Desktop\\Capstone dataset\\all_alpha_12.csv\")\n",
    "df_13_orginal= pd.read_csv(r\"C:\\Users\\dineshkumar.a03\\Desktop\\Capstone dataset\\all_alpha_13.csv\")\n",
    "df_14_orginal= pd.read_csv(r\"C:\\Users\\dineshkumar.a03\\Desktop\\Capstone dataset\\all_alpha_14.csv\")\n",
    "df_15_orginal= pd.read_csv(r\"C:\\Users\\dineshkumar.a03\\Desktop\\Capstone dataset\\all_alpha_15.csv\")\n",
    "df_16_orginal= pd.read_csv(r\"C:\\Users\\dineshkumar.a03\\Desktop\\Capstone dataset\\all_alpha_16.csv\")\n",
    "df_17_orginal= pd.read_csv(r\"C:\\Users\\dineshkumar.a03\\Desktop\\Capstone dataset\\all_alpha_17.csv\")\n",
    "df_18_orginal= pd.read_csv(r\"C:\\Users\\dineshkumar.a03\\Desktop\\Capstone dataset\\all_alpha_18.csv\")\n",
    "\n",
    "print(\"All dataset has been imported to dataframe\")"
   ]
  },
  {
   "cell_type": "markdown",
   "metadata": {},
   "source": [
    "### creating duplicate dataframe for each dataset"
   ]
  },
  {
   "cell_type": "code",
   "execution_count": 2409,
   "metadata": {},
   "outputs": [],
   "source": [
    "\n",
    "\n",
    "df_8 = df_8_orginal.copy()\n",
    "df_9 = df_9_orginal.copy()\n",
    "df_10 = df_10_orginal.copy()\n",
    "df_11 = df_11_orginal.copy()\n",
    "df_12 = df_12_orginal.copy()\n",
    "df_13 = df_13_orginal.copy()\n",
    "df_14 = df_14_orginal.copy()\n",
    "df_15 = df_15_orginal.copy()\n",
    "df_16 = df_16_orginal.copy()\n",
    "df_17 = df_17_orginal.copy()\n",
    "df_18 = df_18_orginal.copy()\n",
    "\n"
   ]
  },
  {
   "cell_type": "code",
   "execution_count": 2410,
   "metadata": {},
   "outputs": [],
   "source": [
    "# list of all duplicate df\n",
    "\n",
    "list_df = [df_8,df_9,df_10,df_11,df_12,df_13,df_14,df_15,df_16,df_17,df_18]\n",
    "\n",
    "\n",
    "# list of all original df\n",
    "\n",
    "original_list = [df_8_orginal,df_9_orginal,df_10_orginal,df_11_orginal,df_12_orginal,df_13_orginal,df_14_orginal,df_15_orginal,df_16_orginal,df_17_orginal,df_18_orginal]"
   ]
  },
  {
   "cell_type": "markdown",
   "metadata": {},
   "source": [
    "### Problem 1 : number of samples in each year"
   ]
  },
  {
   "cell_type": "code",
   "execution_count": 2411,
   "metadata": {},
   "outputs": [
    {
     "name": "stdout",
     "output_type": "stream",
     "text": [
      "There are 2404 Rows and  18  Columns in 2008 Dataset\n",
      "There are 2565 Rows and  21  Columns in 2009 Dataset\n",
      "There are 2326 Rows and  17  Columns in 2010 Dataset\n",
      "There are 2171 Rows and  17  Columns in 2011 Dataset\n",
      "There are 2252 Rows and  17  Columns in 2012 Dataset\n",
      "There are 2397 Rows and  18  Columns in 2013 Dataset\n",
      "There are 2517 Rows and  18  Columns in 2014 Dataset\n",
      "There are 2654 Rows and  18  Columns in 2015 Dataset\n",
      "There are 2589 Rows and  18  Columns in 2016 Dataset\n",
      "There are 2589 Rows and  18  Columns in 2017 Dataset\n",
      "There are 2713 Rows and  18  Columns in 2018 Dataset\n"
     ]
    }
   ],
   "source": [
    "\n",
    "\n",
    "start = 2008\n",
    "for i in list_df:\n",
    "    \n",
    "    print(\"There are\", i.shape[0], \"Rows and \", i.shape[1], \" Columns in\",start, \"Dataset\")\n",
    "    start += 1"
   ]
  },
  {
   "cell_type": "markdown",
   "metadata": {},
   "source": [
    "### problem 1 : removing all duplicates from dataset"
   ]
  },
  {
   "cell_type": "code",
   "execution_count": 2412,
   "metadata": {},
   "outputs": [],
   "source": [
    "\n",
    "\n",
    "df_8 = df_8.drop_duplicates(keep=\"first\")\n",
    "df_9 = df_9.drop_duplicates(keep = \"first\")\n",
    "df_10 = df_10.drop_duplicates(keep = \"first\")\n",
    "df_11 = df_11.drop_duplicates(keep = \"first\")\n",
    "df_12 = df_12.drop_duplicates(keep = \"first\")\n",
    "df_13 = df_13.drop_duplicates(keep = \"first\")\n",
    "df_14 = df_14.drop_duplicates(keep = \"first\")\n",
    "df_15 = df_15.drop_duplicates(keep = \"first\")\n",
    "df_16 = df_16.drop_duplicates(keep = \"first\")\n",
    "df_17 = df_17.drop_duplicates(keep = \"first\")\n",
    "df_18 = df_18.drop_duplicates(keep = \"first\")"
   ]
  },
  {
   "cell_type": "code",
   "execution_count": null,
   "metadata": {},
   "outputs": [],
   "source": []
  },
  {
   "cell_type": "markdown",
   "metadata": {},
   "source": [
    "### finding difference after deleting duplicates"
   ]
  },
  {
   "cell_type": "code",
   "execution_count": 2413,
   "metadata": {},
   "outputs": [],
   "source": [
    "# finding rows in original df and store it in temp\n",
    "\n",
    "temp=[]\n",
    "\n",
    "for i in original_list:\n",
    "    temp.append(i.shape[0])"
   ]
  },
  {
   "cell_type": "code",
   "execution_count": 2414,
   "metadata": {},
   "outputs": [
    {
     "data": {
      "text/plain": [
       "[2404, 2565, 2326, 2171, 2252, 2397, 2517, 2654, 2589, 2589, 2713]"
      ]
     },
     "execution_count": 2414,
     "metadata": {},
     "output_type": "execute_result"
    }
   ],
   "source": [
    "temp"
   ]
  },
  {
   "cell_type": "code",
   "execution_count": 2415,
   "metadata": {},
   "outputs": [
    {
     "name": "stdout",
     "output_type": "stream",
     "text": [
      "2008  dataset has 2404 rows and after removing duplicate it has  2379 rows. Total duplicates-----> 25\n",
      "2009  dataset has 2565 rows and after removing duplicate it has  2519 rows. Total duplicates-----> 46\n",
      "2010  dataset has 2326 rows and after removing duplicate it has  2298 rows. Total duplicates-----> 28\n",
      "2011  dataset has 2171 rows and after removing duplicate it has  2141 rows. Total duplicates-----> 30\n",
      "2012  dataset has 2252 rows and after removing duplicate it has  2212 rows. Total duplicates-----> 40\n",
      "2013  dataset has 2397 rows and after removing duplicate it has  2370 rows. Total duplicates-----> 27\n",
      "2014  dataset has 2517 rows and after removing duplicate it has  2495 rows. Total duplicates-----> 22\n",
      "2015  dataset has 2654 rows and after removing duplicate it has  2616 rows. Total duplicates-----> 38\n",
      "2016  dataset has 2589 rows and after removing duplicate it has  2589 rows. Total duplicates-----> 0\n",
      "2017  dataset has 2589 rows and after removing duplicate it has  2589 rows. Total duplicates-----> 0\n",
      "2018  dataset has 2713 rows and after removing duplicate it has  2713 rows. Total duplicates-----> 0\n"
     ]
    }
   ],
   "source": [
    "list_df = [df_8,df_9,df_10,df_11,df_12,df_13,df_14,df_15,df_16,df_17,df_18]\n",
    "\n",
    "count=0\n",
    "start = 2008\n",
    "for i in list_df:\n",
    "    print(start,\" dataset has\", temp[count], \"rows and after removing duplicate it has \", i.shape[0], \"rows. Total duplicates----->\", temp[count]-i.shape[0])\n",
    "    start += 1\n",
    "    count += 1"
   ]
  },
  {
   "cell_type": "markdown",
   "metadata": {},
   "source": [
    "### problem 1 : Dropping null values"
   ]
  },
  {
   "cell_type": "code",
   "execution_count": 2416,
   "metadata": {},
   "outputs": [],
   "source": [
    "# df_9 has extra columns, so removing that\n",
    "\n",
    "df_9.drop([\"Unnamed: 17\",\"Unnamed: 18\",\"Unnamed: 19\",\"Unnamed: 20\"], axis = 1, inplace = True)"
   ]
  },
  {
   "cell_type": "code",
   "execution_count": 2417,
   "metadata": {},
   "outputs": [],
   "source": [
    "\n",
    "list_df = [df_8,df_9,df_10,df_11,df_12,df_13,df_14,df_15,df_16,df_17,df_18]\n",
    "\n",
    "for i in list_df:\n",
    "    i.dropna(inplace=True)\n",
    "    "
   ]
  },
  {
   "cell_type": "code",
   "execution_count": 2418,
   "metadata": {},
   "outputs": [
    {
     "name": "stdout",
     "output_type": "stream",
     "text": [
      "2008 dataset has 2199 Rows after removing null values\n",
      "2009 dataset has 2346 Rows after removing null values\n",
      "2010 dataset has 2140 Rows after removing null values\n",
      "2011 dataset has 1997 Rows after removing null values\n",
      "2012 dataset has 2066 Rows after removing null values\n",
      "2013 dataset has 2190 Rows after removing null values\n",
      "2014 dataset has 2284 Rows after removing null values\n",
      "2015 dataset has 2349 Rows after removing null values\n",
      "2016 dataset has 2529 Rows after removing null values\n",
      "2017 dataset has 2527 Rows after removing null values\n",
      "2018 dataset has 2663 Rows after removing null values\n"
     ]
    }
   ],
   "source": [
    "#shape after removing null values\n",
    "\n",
    "list_df = [df_8,df_9,df_10,df_11,df_12,df_13,df_14,df_15,df_16,df_17,df_18]\n",
    "\n",
    "year= 2008\n",
    "\n",
    "for i in list_df:\n",
    "    print(year, \"dataset has\",i.shape[0],\"Rows after removing null values\")\n",
    "    year += 1\n"
   ]
  },
  {
   "cell_type": "code",
   "execution_count": 2419,
   "metadata": {},
   "outputs": [
    {
     "data": {
      "text/plain": [
       "Model                    object\n",
       "Displ                   float64\n",
       "Cyl                     float64\n",
       "Trans                    object\n",
       "Drive                    object\n",
       "Fuel                     object\n",
       "Cert Region              object\n",
       "Stnd                     object\n",
       "Stnd Description         object\n",
       "Underhood ID             object\n",
       "Veh Class                object\n",
       "Air Pollution Score       int64\n",
       "City MPG                 object\n",
       "Hwy MPG                  object\n",
       "Cmb MPG                  object\n",
       "Greenhouse Gas Score      int64\n",
       "SmartWay                 object\n",
       "Comb CO2                 object\n",
       "dtype: object"
      ]
     },
     "execution_count": 2419,
     "metadata": {},
     "output_type": "execute_result"
    }
   ],
   "source": [
    "df_18_orginal.dtypes"
   ]
  },
  {
   "cell_type": "markdown",
   "metadata": {},
   "source": [
    "### Problem 1 : Dropping all unwanted columns in all dataset"
   ]
  },
  {
   "cell_type": "code",
   "execution_count": 2420,
   "metadata": {},
   "outputs": [],
   "source": [
    "df_8.drop(['Stnd', 'Underhood ID', 'FE Calc Appr', 'Unadj Cmb MPG'], axis=1, inplace=True)"
   ]
  },
  {
   "cell_type": "code",
   "execution_count": 2421,
   "metadata": {},
   "outputs": [],
   "source": [
    "df_9.drop(['Stnd','Stnd Description', 'Underhood ID', ], axis=1, inplace=True)"
   ]
  },
  {
   "cell_type": "code",
   "execution_count": 2422,
   "metadata": {},
   "outputs": [],
   "source": [
    "df_10.drop(['Stnd','Stnd Description', 'Underhood ID', ], axis=1, inplace=True)"
   ]
  },
  {
   "cell_type": "code",
   "execution_count": 2423,
   "metadata": {},
   "outputs": [],
   "source": [
    "df_11.drop(['Stnd','Stnd Description', 'Underhood ID', ], axis=1, inplace=True)"
   ]
  },
  {
   "cell_type": "code",
   "execution_count": 2424,
   "metadata": {},
   "outputs": [],
   "source": [
    "df_12.drop(['Stnd','Stnd Description', 'Underhood ID', ], axis=1, inplace=True)"
   ]
  },
  {
   "cell_type": "code",
   "execution_count": 2425,
   "metadata": {},
   "outputs": [],
   "source": [
    "df_13.drop(['Stnd','Stnd Description', 'Underhood ID','Comb CO2'], axis=1, inplace=True)"
   ]
  },
  {
   "cell_type": "code",
   "execution_count": 2426,
   "metadata": {},
   "outputs": [],
   "source": [
    "df_14.drop(['Stnd','Stnd Description', 'Underhood ID','Comb CO2'], axis=1, inplace=True)"
   ]
  },
  {
   "cell_type": "code",
   "execution_count": 2427,
   "metadata": {},
   "outputs": [],
   "source": [
    "df_15.drop(['Stnd','Stnd Description', 'Underhood ID','Comb CO2'], axis=1, inplace=True)"
   ]
  },
  {
   "cell_type": "code",
   "execution_count": 2428,
   "metadata": {},
   "outputs": [],
   "source": [
    "df_16.drop(['Stnd','Stnd Description', 'Underhood ID','Comb CO2'], axis=1, inplace=True)"
   ]
  },
  {
   "cell_type": "code",
   "execution_count": 2429,
   "metadata": {},
   "outputs": [],
   "source": [
    "df_17.drop(['Stnd','Stnd Description', 'Underhood ID','Comb CO2'], axis=1, inplace=True)"
   ]
  },
  {
   "cell_type": "code",
   "execution_count": 2430,
   "metadata": {},
   "outputs": [],
   "source": [
    "df_18.drop(['Stnd','Stnd Description', 'Underhood ID','Comb CO2'], axis=1, inplace=True)"
   ]
  },
  {
   "cell_type": "markdown",
   "metadata": {},
   "source": [
    "### Problem 1: Correcting the columns names"
   ]
  },
  {
   "cell_type": "markdown",
   "metadata": {},
   "source": [
    "'''In df_16 to df_18 the sales area column in named as cert Region. \n",
    "Inorder for our convinence we are changinf the column name to sales area for uniformity''' "
   ]
  },
  {
   "cell_type": "code",
   "execution_count": 2431,
   "metadata": {},
   "outputs": [],
   "source": [
    "df_16.rename(columns={'Cert Region' : 'Sales Area'}, inplace = True)"
   ]
  },
  {
   "cell_type": "code",
   "execution_count": 2432,
   "metadata": {},
   "outputs": [],
   "source": [
    "df_17.rename(columns={'Cert Region' : 'Sales Area'}, inplace = True)"
   ]
  },
  {
   "cell_type": "code",
   "execution_count": 2433,
   "metadata": {},
   "outputs": [],
   "source": [
    "df_18.rename(columns={'Cert Region' : 'Sales Area'}, inplace = True)"
   ]
  },
  {
   "cell_type": "code",
   "execution_count": null,
   "metadata": {},
   "outputs": [],
   "source": []
  },
  {
   "cell_type": "markdown",
   "metadata": {},
   "source": [
    "### Problem 1: Correcting the columns names having space between them"
   ]
  },
  {
   "cell_type": "code",
   "execution_count": 2434,
   "metadata": {},
   "outputs": [],
   "source": [
    "df_8.rename(columns=lambda x : x.strip().lower().replace(' ','_'),inplace = True)"
   ]
  },
  {
   "cell_type": "code",
   "execution_count": 2435,
   "metadata": {},
   "outputs": [],
   "source": [
    "df_9.rename(columns=lambda x : x.strip().lower().replace(' ','_'),inplace = True)"
   ]
  },
  {
   "cell_type": "code",
   "execution_count": 2436,
   "metadata": {},
   "outputs": [],
   "source": [
    "df_10.rename(columns=lambda x : x.strip().lower().replace(' ','_'),inplace = True)"
   ]
  },
  {
   "cell_type": "code",
   "execution_count": 2437,
   "metadata": {},
   "outputs": [],
   "source": [
    "df_11.rename(columns=lambda x : x.strip().lower().replace(' ','_'),inplace = True)"
   ]
  },
  {
   "cell_type": "code",
   "execution_count": 2438,
   "metadata": {},
   "outputs": [],
   "source": [
    "df_12.rename(columns=lambda x : x.strip().lower().replace(' ','_'),inplace = True)"
   ]
  },
  {
   "cell_type": "code",
   "execution_count": 2439,
   "metadata": {},
   "outputs": [],
   "source": [
    "df_13.rename(columns=lambda x : x.strip().lower().replace(' ','_'),inplace = True)"
   ]
  },
  {
   "cell_type": "code",
   "execution_count": 2440,
   "metadata": {},
   "outputs": [],
   "source": [
    "df_14.rename(columns=lambda x : x.strip().lower().replace(' ','_'),inplace = True)"
   ]
  },
  {
   "cell_type": "code",
   "execution_count": 2441,
   "metadata": {},
   "outputs": [],
   "source": [
    "df_15.rename(columns=lambda x : x.strip().lower().replace(' ','_'),inplace = True)"
   ]
  },
  {
   "cell_type": "code",
   "execution_count": 2442,
   "metadata": {},
   "outputs": [],
   "source": [
    "df_16.rename(columns=lambda x : x.strip().lower().replace(' ','_'),inplace = True)"
   ]
  },
  {
   "cell_type": "code",
   "execution_count": 2443,
   "metadata": {},
   "outputs": [],
   "source": [
    "df_17.rename(columns=lambda x : x.strip().lower().replace(' ','_'),inplace = True)"
   ]
  },
  {
   "cell_type": "code",
   "execution_count": 2444,
   "metadata": {},
   "outputs": [],
   "source": [
    "df_18.rename(columns=lambda x : x.strip().lower().replace(' ','_'),inplace = True)"
   ]
  },
  {
   "cell_type": "code",
   "execution_count": null,
   "metadata": {},
   "outputs": [],
   "source": []
  },
  {
   "cell_type": "markdown",
   "metadata": {},
   "source": [
    "### Problem 1: Correcting the columns datatypes"
   ]
  },
  {
   "cell_type": "code",
   "execution_count": 2445,
   "metadata": {},
   "outputs": [
    {
     "data": {
      "text/html": [
       "<div>\n",
       "<style scoped>\n",
       "    .dataframe tbody tr th:only-of-type {\n",
       "        vertical-align: middle;\n",
       "    }\n",
       "\n",
       "    .dataframe tbody tr th {\n",
       "        vertical-align: top;\n",
       "    }\n",
       "\n",
       "    .dataframe thead th {\n",
       "        text-align: right;\n",
       "    }\n",
       "</style>\n",
       "<table border=\"1\" class=\"dataframe\">\n",
       "  <thead>\n",
       "    <tr style=\"text-align: right;\">\n",
       "      <th></th>\n",
       "      <th>model</th>\n",
       "      <th>displ</th>\n",
       "      <th>cyl</th>\n",
       "      <th>trans</th>\n",
       "      <th>drive</th>\n",
       "      <th>fuel</th>\n",
       "      <th>sales_area</th>\n",
       "      <th>veh_class</th>\n",
       "      <th>air_pollution_score</th>\n",
       "      <th>city_mpg</th>\n",
       "      <th>hwy_mpg</th>\n",
       "      <th>cmb_mpg</th>\n",
       "      <th>greenhouse_gas_score</th>\n",
       "      <th>smartway</th>\n",
       "    </tr>\n",
       "  </thead>\n",
       "  <tbody>\n",
       "    <tr>\n",
       "      <th>1550</th>\n",
       "      <td>MERCEDES-BENZ C300</td>\n",
       "      <td>3.0</td>\n",
       "      <td>(6 cyl)</td>\n",
       "      <td>Auto-L7</td>\n",
       "      <td>2WD</td>\n",
       "      <td>ethanol/gas</td>\n",
       "      <td>CA</td>\n",
       "      <td>small car</td>\n",
       "      <td>6/4</td>\n",
       "      <td>13/18</td>\n",
       "      <td>19/25</td>\n",
       "      <td>15/21</td>\n",
       "      <td>7/6</td>\n",
       "      <td>no</td>\n",
       "    </tr>\n",
       "  </tbody>\n",
       "</table>\n",
       "</div>"
      ],
      "text/plain": [
       "                   model  displ      cyl    trans drive         fuel  \\\n",
       "1550  MERCEDES-BENZ C300    3.0  (6 cyl)  Auto-L7   2WD  ethanol/gas   \n",
       "\n",
       "     sales_area  veh_class air_pollution_score city_mpg hwy_mpg cmb_mpg  \\\n",
       "1550         CA  small car                 6/4    13/18   19/25   15/21   \n",
       "\n",
       "     greenhouse_gas_score smartway  \n",
       "1550                  7/6       no  "
      ]
     },
     "execution_count": 2445,
     "metadata": {},
     "output_type": "execute_result"
    }
   ],
   "source": [
    "df_8[df_8[\"air_pollution_score\"].str.contains(\"6/4\")]"
   ]
  },
  {
   "cell_type": "code",
   "execution_count": 2446,
   "metadata": {},
   "outputs": [
    {
     "data": {
      "text/plain": [
       "'Looks like this isn\\'t going to be as simple as converting the datatype. According to the error above, the air \\npollution score value in one of the rows is \"6/4\" -  so all vehicles with more than one fuel type,\\nor hybrids, like the one above (it uses ethanol AND gas) will have a string that holds two values - one for each. \\nThis is a little tricky, . '"
      ]
     },
     "execution_count": 2446,
     "metadata": {},
     "output_type": "execute_result"
    }
   ],
   "source": [
    "\"\"\"Looks like this isn't going to be as simple as converting the datatype. According to the error above, the air \n",
    "pollution score value in one of the rows is \"6/4\" -  so all vehicles with more than one fuel type,\n",
    "or hybrids, like the one above (it uses ethanol AND gas) will have a string that holds two values - one for each. \n",
    "This is a little tricky, . \"\"\""
   ]
  },
  {
   "cell_type": "markdown",
   "metadata": {},
   "source": [
    "### df_8"
   ]
  },
  {
   "cell_type": "code",
   "execution_count": 2447,
   "metadata": {},
   "outputs": [],
   "source": [
    "#first create a dataframe that has hybrid cars ie: Fuel type having two fuels\n",
    "\n",
    "df_8_hyb = df_8[df_8[\"fuel\"].str.contains(\"/\")]"
   ]
  },
  {
   "cell_type": "code",
   "execution_count": 2448,
   "metadata": {},
   "outputs": [],
   "source": [
    "#now create a two duplicate dataframe from orginal one\n",
    "\n",
    "df_8_1 = df_8_hyb.copy()\n",
    "df_8_2 = df_8_hyb.copy()"
   ]
  },
  {
   "cell_type": "code",
   "execution_count": 2449,
   "metadata": {},
   "outputs": [],
   "source": [
    "# create a list of columns that contains / in it\n",
    "\n",
    "split_columns = ['fuel', 'air_pollution_score', 'city_mpg', 'hwy_mpg', 'cmb_mpg', 'greenhouse_gas_score']"
   ]
  },
  {
   "cell_type": "code",
   "execution_count": 2450,
   "metadata": {},
   "outputs": [],
   "source": [
    "#iterate and split the / values\n",
    "\n",
    "for i in split_columns:\n",
    "    df_8_1[i] = df_8_1[i].str.split(\"/\",expand = True)[0]\n",
    "    df_8_2[i] = df_8_2[i].str.split(\"/\",expand = True)[1]\n",
    "    "
   ]
  },
  {
   "cell_type": "code",
   "execution_count": 2451,
   "metadata": {},
   "outputs": [],
   "source": [
    "#now append both the dataset\n",
    "\n",
    "extracted_8 = df_8_1.append(df_8_2)\n"
   ]
  },
  {
   "cell_type": "code",
   "execution_count": 2452,
   "metadata": {},
   "outputs": [],
   "source": [
    "# lets drop the hybrid values (values that contains / ) from the dataset and add extracted values\n",
    "\n",
    "\n",
    "df_8.drop(df_8_hyb.index, inplace = True)\n"
   ]
  },
  {
   "cell_type": "code",
   "execution_count": 2453,
   "metadata": {},
   "outputs": [],
   "source": [
    "df_8 = df_8.append(extracted_8,ignore_index=True)"
   ]
  },
  {
   "cell_type": "code",
   "execution_count": 2454,
   "metadata": {},
   "outputs": [
    {
     "data": {
      "text/html": [
       "<div>\n",
       "<style scoped>\n",
       "    .dataframe tbody tr th:only-of-type {\n",
       "        vertical-align: middle;\n",
       "    }\n",
       "\n",
       "    .dataframe tbody tr th {\n",
       "        vertical-align: top;\n",
       "    }\n",
       "\n",
       "    .dataframe thead th {\n",
       "        text-align: right;\n",
       "    }\n",
       "</style>\n",
       "<table border=\"1\" class=\"dataframe\">\n",
       "  <thead>\n",
       "    <tr style=\"text-align: right;\">\n",
       "      <th></th>\n",
       "      <th>model</th>\n",
       "      <th>displ</th>\n",
       "      <th>cyl</th>\n",
       "      <th>trans</th>\n",
       "      <th>drive</th>\n",
       "      <th>fuel</th>\n",
       "      <th>sales_area</th>\n",
       "      <th>veh_class</th>\n",
       "      <th>air_pollution_score</th>\n",
       "      <th>city_mpg</th>\n",
       "      <th>hwy_mpg</th>\n",
       "      <th>cmb_mpg</th>\n",
       "      <th>greenhouse_gas_score</th>\n",
       "      <th>smartway</th>\n",
       "    </tr>\n",
       "  </thead>\n",
       "  <tbody>\n",
       "  </tbody>\n",
       "</table>\n",
       "</div>"
      ],
      "text/plain": [
       "Empty DataFrame\n",
       "Columns: [model, displ, cyl, trans, drive, fuel, sales_area, veh_class, air_pollution_score, city_mpg, hwy_mpg, cmb_mpg, greenhouse_gas_score, smartway]\n",
       "Index: []"
      ]
     },
     "execution_count": 2454,
     "metadata": {},
     "output_type": "execute_result"
    }
   ],
   "source": [
    "#check if any values has / values in it\n",
    "\n",
    "df_8[df_8['fuel'].str.contains('/')]"
   ]
  },
  {
   "cell_type": "markdown",
   "metadata": {},
   "source": [
    "###### Repeat the same process to rest of the 9 datasets"
   ]
  },
  {
   "cell_type": "markdown",
   "metadata": {},
   "source": [
    "### df_9"
   ]
  },
  {
   "cell_type": "code",
   "execution_count": 2455,
   "metadata": {},
   "outputs": [],
   "source": [
    "#first create a dataframe that has hybrid cars ie: Fuel type having two fuels\n",
    "\n",
    "df_9_hyb = df_9[df_9[\"fuel\"].str.contains(\"/\")]"
   ]
  },
  {
   "cell_type": "code",
   "execution_count": 2456,
   "metadata": {},
   "outputs": [],
   "source": [
    "#now create a two duplicate dataframe from orginal one\n",
    "\n",
    "df_9_1 = df_9_hyb.copy()\n",
    "df_9_2 = df_9_hyb.copy()"
   ]
  },
  {
   "cell_type": "code",
   "execution_count": 2457,
   "metadata": {},
   "outputs": [],
   "source": [
    "#iterate and split the / values\n",
    "\n",
    "for i in split_columns:\n",
    "    df_9_1[i] = df_9_1[i].str.split(\"/\",expand = True)[0]\n",
    "    df_9_2[i] = df_9_2[i].str.split(\"/\",expand = True)[1]\n",
    "    "
   ]
  },
  {
   "cell_type": "code",
   "execution_count": 2458,
   "metadata": {},
   "outputs": [],
   "source": [
    "#now append both the dataset\n",
    "\n",
    "extracted_9 = df_9_1.append(df_9_2)\n"
   ]
  },
  {
   "cell_type": "code",
   "execution_count": 2459,
   "metadata": {},
   "outputs": [],
   "source": [
    "# lets drop the hybrid values (values that contains / ) from the dataset and add extracted values\n",
    "\n",
    "\n",
    "df_9.drop(df_9_hyb.index, inplace = True)\n"
   ]
  },
  {
   "cell_type": "code",
   "execution_count": 2460,
   "metadata": {},
   "outputs": [],
   "source": [
    "df_9 = df_9.append(extracted_9,ignore_index=True)"
   ]
  },
  {
   "cell_type": "code",
   "execution_count": 2461,
   "metadata": {},
   "outputs": [
    {
     "data": {
      "text/html": [
       "<div>\n",
       "<style scoped>\n",
       "    .dataframe tbody tr th:only-of-type {\n",
       "        vertical-align: middle;\n",
       "    }\n",
       "\n",
       "    .dataframe tbody tr th {\n",
       "        vertical-align: top;\n",
       "    }\n",
       "\n",
       "    .dataframe thead th {\n",
       "        text-align: right;\n",
       "    }\n",
       "</style>\n",
       "<table border=\"1\" class=\"dataframe\">\n",
       "  <thead>\n",
       "    <tr style=\"text-align: right;\">\n",
       "      <th></th>\n",
       "      <th>model</th>\n",
       "      <th>displ</th>\n",
       "      <th>cyl</th>\n",
       "      <th>trans</th>\n",
       "      <th>drive</th>\n",
       "      <th>fuel</th>\n",
       "      <th>sales_area</th>\n",
       "      <th>veh_class</th>\n",
       "      <th>air_pollution_score</th>\n",
       "      <th>city_mpg</th>\n",
       "      <th>hwy_mpg</th>\n",
       "      <th>cmb_mpg</th>\n",
       "      <th>greenhouse_gas_score</th>\n",
       "      <th>smartway</th>\n",
       "    </tr>\n",
       "  </thead>\n",
       "  <tbody>\n",
       "  </tbody>\n",
       "</table>\n",
       "</div>"
      ],
      "text/plain": [
       "Empty DataFrame\n",
       "Columns: [model, displ, cyl, trans, drive, fuel, sales_area, veh_class, air_pollution_score, city_mpg, hwy_mpg, cmb_mpg, greenhouse_gas_score, smartway]\n",
       "Index: []"
      ]
     },
     "execution_count": 2461,
     "metadata": {},
     "output_type": "execute_result"
    }
   ],
   "source": [
    "#check if any values has / values in it\n",
    "\n",
    "df_9[df_9['fuel'].str.contains('/')]"
   ]
  },
  {
   "cell_type": "code",
   "execution_count": null,
   "metadata": {},
   "outputs": [],
   "source": []
  },
  {
   "cell_type": "markdown",
   "metadata": {},
   "source": [
    "### df_10"
   ]
  },
  {
   "cell_type": "code",
   "execution_count": 2462,
   "metadata": {},
   "outputs": [],
   "source": [
    "#first create a dataframe that has hybrid cars ie: Fuel type having two fuels\n",
    "\n",
    "df_10_hyb = df_10[df_10[\"fuel\"].str.contains(\"/\")]"
   ]
  },
  {
   "cell_type": "code",
   "execution_count": 2463,
   "metadata": {},
   "outputs": [],
   "source": [
    "#now create a two duplicate dataframe from orginal one\n",
    "\n",
    "df_10_1 = df_10_hyb.copy()\n",
    "df_10_2 = df_10_hyb.copy()"
   ]
  },
  {
   "cell_type": "code",
   "execution_count": 2464,
   "metadata": {},
   "outputs": [],
   "source": [
    "#iterate and split the / values\n",
    "\n",
    "for i in split_columns:\n",
    "    df_10_1[i] = df_10_1[i].str.split(\"/\",expand = True)[0]\n",
    "    df_10_2[i] = df_10_2[i].str.split(\"/\",expand = True)[1]\n",
    "    "
   ]
  },
  {
   "cell_type": "code",
   "execution_count": 2465,
   "metadata": {},
   "outputs": [],
   "source": [
    "#now append both the dataset\n",
    "\n",
    "extracted_10 = df_10_1.append(df_10_2)\n"
   ]
  },
  {
   "cell_type": "code",
   "execution_count": 2466,
   "metadata": {},
   "outputs": [],
   "source": [
    "# lets drop the hybrid values (values that contains / ) from the dataset and add extracted values\n",
    "\n",
    "\n",
    "df_10.drop(df_10_hyb.index, inplace = True)\n"
   ]
  },
  {
   "cell_type": "code",
   "execution_count": 2467,
   "metadata": {},
   "outputs": [],
   "source": [
    "df_10 = df_10.append(extracted_10,ignore_index=True)"
   ]
  },
  {
   "cell_type": "code",
   "execution_count": 2468,
   "metadata": {},
   "outputs": [
    {
     "data": {
      "text/html": [
       "<div>\n",
       "<style scoped>\n",
       "    .dataframe tbody tr th:only-of-type {\n",
       "        vertical-align: middle;\n",
       "    }\n",
       "\n",
       "    .dataframe tbody tr th {\n",
       "        vertical-align: top;\n",
       "    }\n",
       "\n",
       "    .dataframe thead th {\n",
       "        text-align: right;\n",
       "    }\n",
       "</style>\n",
       "<table border=\"1\" class=\"dataframe\">\n",
       "  <thead>\n",
       "    <tr style=\"text-align: right;\">\n",
       "      <th></th>\n",
       "      <th>model</th>\n",
       "      <th>displ</th>\n",
       "      <th>cyl</th>\n",
       "      <th>trans</th>\n",
       "      <th>drive</th>\n",
       "      <th>fuel</th>\n",
       "      <th>sales_area</th>\n",
       "      <th>veh_class</th>\n",
       "      <th>air_pollution_score</th>\n",
       "      <th>city_mpg</th>\n",
       "      <th>hwy_mpg</th>\n",
       "      <th>cmb_mpg</th>\n",
       "      <th>greenhouse_gas_score</th>\n",
       "      <th>smartway</th>\n",
       "    </tr>\n",
       "  </thead>\n",
       "  <tbody>\n",
       "  </tbody>\n",
       "</table>\n",
       "</div>"
      ],
      "text/plain": [
       "Empty DataFrame\n",
       "Columns: [model, displ, cyl, trans, drive, fuel, sales_area, veh_class, air_pollution_score, city_mpg, hwy_mpg, cmb_mpg, greenhouse_gas_score, smartway]\n",
       "Index: []"
      ]
     },
     "execution_count": 2468,
     "metadata": {},
     "output_type": "execute_result"
    }
   ],
   "source": [
    "#check if any values has / values in it\n",
    "\n",
    "df_10[df_10['fuel'].str.contains('/')]"
   ]
  },
  {
   "cell_type": "code",
   "execution_count": null,
   "metadata": {},
   "outputs": [],
   "source": []
  },
  {
   "cell_type": "markdown",
   "metadata": {},
   "source": [
    "### df_11"
   ]
  },
  {
   "cell_type": "code",
   "execution_count": 2469,
   "metadata": {},
   "outputs": [],
   "source": [
    "#first create a dataframe that has hybrid cars ie: Fuel type having two fuels\n",
    "\n",
    "df_11_hyb = df_11[df_11[\"fuel\"].str.contains(\"/\")]"
   ]
  },
  {
   "cell_type": "code",
   "execution_count": 2470,
   "metadata": {},
   "outputs": [],
   "source": [
    "#now create a two duplicate dataframe from orginal one\n",
    "\n",
    "df_11_1 = df_11_hyb.copy()\n",
    "df_11_2 = df_11_hyb.copy()"
   ]
  },
  {
   "cell_type": "code",
   "execution_count": 2471,
   "metadata": {},
   "outputs": [],
   "source": [
    "#iterate and split the / values\n",
    "\n",
    "for i in split_columns:\n",
    "    df_11_1[i] = df_11_1[i].str.split(\"/\",expand = True)[0]\n",
    "    df_11_2[i] = df_11_2[i].str.split(\"/\",expand = True)[1]\n",
    "    "
   ]
  },
  {
   "cell_type": "code",
   "execution_count": 2472,
   "metadata": {},
   "outputs": [],
   "source": [
    "#now append both the dataset\n",
    "\n",
    "extracted_11 = df_11_1.append(df_11_2)\n"
   ]
  },
  {
   "cell_type": "code",
   "execution_count": 2473,
   "metadata": {},
   "outputs": [],
   "source": [
    "# lets drop the hybrid values (values that contains / ) from the dataset and add extracted values\n",
    "\n",
    "\n",
    "df_11.drop(df_11_hyb.index, inplace = True)\n"
   ]
  },
  {
   "cell_type": "code",
   "execution_count": 2474,
   "metadata": {},
   "outputs": [],
   "source": [
    "df_11 = df_11.append(extracted_11,ignore_index=True)"
   ]
  },
  {
   "cell_type": "code",
   "execution_count": 2475,
   "metadata": {},
   "outputs": [
    {
     "data": {
      "text/html": [
       "<div>\n",
       "<style scoped>\n",
       "    .dataframe tbody tr th:only-of-type {\n",
       "        vertical-align: middle;\n",
       "    }\n",
       "\n",
       "    .dataframe tbody tr th {\n",
       "        vertical-align: top;\n",
       "    }\n",
       "\n",
       "    .dataframe thead th {\n",
       "        text-align: right;\n",
       "    }\n",
       "</style>\n",
       "<table border=\"1\" class=\"dataframe\">\n",
       "  <thead>\n",
       "    <tr style=\"text-align: right;\">\n",
       "      <th></th>\n",
       "      <th>model</th>\n",
       "      <th>displ</th>\n",
       "      <th>cyl</th>\n",
       "      <th>trans</th>\n",
       "      <th>drive</th>\n",
       "      <th>fuel</th>\n",
       "      <th>sales_area</th>\n",
       "      <th>veh_class</th>\n",
       "      <th>air_pollution_score</th>\n",
       "      <th>city_mpg</th>\n",
       "      <th>hwy_mpg</th>\n",
       "      <th>cmb_mpg</th>\n",
       "      <th>greenhouse_gas_score</th>\n",
       "      <th>smartway</th>\n",
       "    </tr>\n",
       "  </thead>\n",
       "  <tbody>\n",
       "  </tbody>\n",
       "</table>\n",
       "</div>"
      ],
      "text/plain": [
       "Empty DataFrame\n",
       "Columns: [model, displ, cyl, trans, drive, fuel, sales_area, veh_class, air_pollution_score, city_mpg, hwy_mpg, cmb_mpg, greenhouse_gas_score, smartway]\n",
       "Index: []"
      ]
     },
     "execution_count": 2475,
     "metadata": {},
     "output_type": "execute_result"
    }
   ],
   "source": [
    "#check if any values has / values in it\n",
    "\n",
    "df_11[df_11['fuel'].str.contains('/')]"
   ]
  },
  {
   "cell_type": "code",
   "execution_count": null,
   "metadata": {},
   "outputs": [],
   "source": []
  },
  {
   "cell_type": "markdown",
   "metadata": {},
   "source": [
    "### df_12"
   ]
  },
  {
   "cell_type": "code",
   "execution_count": 2476,
   "metadata": {},
   "outputs": [],
   "source": [
    "#first create a dataframe that has hybrid cars ie: Fuel type having two fuels\n",
    "\n",
    "df_12_hyb = df_12[df_12[\"fuel\"].str.contains(\"/\")]"
   ]
  },
  {
   "cell_type": "code",
   "execution_count": 2477,
   "metadata": {},
   "outputs": [],
   "source": [
    "#now create a two duplicate dataframe from orginal one\n",
    "\n",
    "df_12_1 = df_12_hyb.copy()\n",
    "df_12_2 = df_12_hyb.copy()"
   ]
  },
  {
   "cell_type": "code",
   "execution_count": 2478,
   "metadata": {},
   "outputs": [],
   "source": [
    "# create a list of columns that contains / in it\n",
    "\n",
    "split_columns = ['fuel',  'city_mpg', 'hwy_mpg', 'cmb_mpg']"
   ]
  },
  {
   "cell_type": "code",
   "execution_count": 2479,
   "metadata": {},
   "outputs": [],
   "source": [
    "#iterate and split the / values\n",
    "\n",
    "for i in split_columns:\n",
    "    df_12_1[i] = df_12_1[i].str.split(\"/\",expand = True)[0]\n",
    "    df_12_2[i] = df_12_2[i].str.split(\"/\",expand = True)[1]\n",
    "    "
   ]
  },
  {
   "cell_type": "code",
   "execution_count": 2480,
   "metadata": {},
   "outputs": [],
   "source": [
    "#now append both the dataset\n",
    "\n",
    "extracted_12 = df_12_1.append(df_12_2)\n"
   ]
  },
  {
   "cell_type": "code",
   "execution_count": 2481,
   "metadata": {},
   "outputs": [],
   "source": [
    "# lets drop the hybrid values (values that contains / ) from the dataset and add extracted values\n",
    "\n",
    "\n",
    "df_12.drop(df_12_hyb.index, inplace = True)\n"
   ]
  },
  {
   "cell_type": "code",
   "execution_count": 2482,
   "metadata": {},
   "outputs": [],
   "source": [
    "df_12 = df_12.append(extracted_12,ignore_index=True)"
   ]
  },
  {
   "cell_type": "code",
   "execution_count": 2483,
   "metadata": {},
   "outputs": [
    {
     "data": {
      "text/html": [
       "<div>\n",
       "<style scoped>\n",
       "    .dataframe tbody tr th:only-of-type {\n",
       "        vertical-align: middle;\n",
       "    }\n",
       "\n",
       "    .dataframe tbody tr th {\n",
       "        vertical-align: top;\n",
       "    }\n",
       "\n",
       "    .dataframe thead th {\n",
       "        text-align: right;\n",
       "    }\n",
       "</style>\n",
       "<table border=\"1\" class=\"dataframe\">\n",
       "  <thead>\n",
       "    <tr style=\"text-align: right;\">\n",
       "      <th></th>\n",
       "      <th>model</th>\n",
       "      <th>displ</th>\n",
       "      <th>cyl</th>\n",
       "      <th>trans</th>\n",
       "      <th>drive</th>\n",
       "      <th>fuel</th>\n",
       "      <th>sales_area</th>\n",
       "      <th>veh_class</th>\n",
       "      <th>air_pollution_score</th>\n",
       "      <th>city_mpg</th>\n",
       "      <th>hwy_mpg</th>\n",
       "      <th>cmb_mpg</th>\n",
       "      <th>greenhouse_gas_score</th>\n",
       "      <th>smartway</th>\n",
       "    </tr>\n",
       "  </thead>\n",
       "  <tbody>\n",
       "  </tbody>\n",
       "</table>\n",
       "</div>"
      ],
      "text/plain": [
       "Empty DataFrame\n",
       "Columns: [model, displ, cyl, trans, drive, fuel, sales_area, veh_class, air_pollution_score, city_mpg, hwy_mpg, cmb_mpg, greenhouse_gas_score, smartway]\n",
       "Index: []"
      ]
     },
     "execution_count": 2483,
     "metadata": {},
     "output_type": "execute_result"
    }
   ],
   "source": [
    "#check if any values has / values in it\n",
    "\n",
    "df_12[df_12['fuel'].str.contains('/')]"
   ]
  },
  {
   "cell_type": "code",
   "execution_count": null,
   "metadata": {},
   "outputs": [],
   "source": []
  },
  {
   "cell_type": "markdown",
   "metadata": {},
   "source": [
    "### df_13"
   ]
  },
  {
   "cell_type": "code",
   "execution_count": 2484,
   "metadata": {},
   "outputs": [],
   "source": [
    "#first create a dataframe that has hybrid cars ie: Fuel type having two fuels\n",
    "\n",
    "df_13_hyb = df_13[df_13[\"fuel\"].str.contains(\"/\")]"
   ]
  },
  {
   "cell_type": "code",
   "execution_count": 2485,
   "metadata": {},
   "outputs": [],
   "source": [
    "#now create a two duplicate dataframe from orginal one\n",
    "\n",
    "df_13_1 = df_13_hyb.copy()\n",
    "df_13_2 = df_13_hyb.copy()"
   ]
  },
  {
   "cell_type": "code",
   "execution_count": 2486,
   "metadata": {},
   "outputs": [],
   "source": [
    "# create a list of columns that contains / in it\n",
    "\n",
    "split_columns = ['fuel',  'city_mpg', 'hwy_mpg', 'cmb_mpg']"
   ]
  },
  {
   "cell_type": "code",
   "execution_count": 2487,
   "metadata": {},
   "outputs": [],
   "source": [
    "#iterate and split the / values\n",
    "\n",
    "for i in split_columns:\n",
    "    df_13_1[i] = df_13_1[i].str.split(\"/\",expand = True)[0]\n",
    "    df_13_2[i] = df_13_2[i].str.split(\"/\",expand = True)[1]\n",
    "    "
   ]
  },
  {
   "cell_type": "code",
   "execution_count": 2488,
   "metadata": {},
   "outputs": [],
   "source": [
    "#now append both the dataset\n",
    "\n",
    "extracted_13 = df_13_1.append(df_13_2)\n"
   ]
  },
  {
   "cell_type": "code",
   "execution_count": 2489,
   "metadata": {},
   "outputs": [],
   "source": [
    "# lets drop the hybrid values (values that contains / ) from the dataset and add extracted values\n",
    "\n",
    "\n",
    "df_13.drop(df_13_hyb.index, inplace = True)\n"
   ]
  },
  {
   "cell_type": "code",
   "execution_count": 2490,
   "metadata": {},
   "outputs": [],
   "source": [
    "df_13 = df_13.append(extracted_13,ignore_index=True)"
   ]
  },
  {
   "cell_type": "code",
   "execution_count": 2491,
   "metadata": {},
   "outputs": [
    {
     "data": {
      "text/html": [
       "<div>\n",
       "<style scoped>\n",
       "    .dataframe tbody tr th:only-of-type {\n",
       "        vertical-align: middle;\n",
       "    }\n",
       "\n",
       "    .dataframe tbody tr th {\n",
       "        vertical-align: top;\n",
       "    }\n",
       "\n",
       "    .dataframe thead th {\n",
       "        text-align: right;\n",
       "    }\n",
       "</style>\n",
       "<table border=\"1\" class=\"dataframe\">\n",
       "  <thead>\n",
       "    <tr style=\"text-align: right;\">\n",
       "      <th></th>\n",
       "      <th>model</th>\n",
       "      <th>displ</th>\n",
       "      <th>cyl</th>\n",
       "      <th>trans</th>\n",
       "      <th>drive</th>\n",
       "      <th>fuel</th>\n",
       "      <th>sales_area</th>\n",
       "      <th>veh_class</th>\n",
       "      <th>air_pollution_score</th>\n",
       "      <th>city_mpg</th>\n",
       "      <th>hwy_mpg</th>\n",
       "      <th>cmb_mpg</th>\n",
       "      <th>greenhouse_gas_score</th>\n",
       "      <th>smartway</th>\n",
       "    </tr>\n",
       "  </thead>\n",
       "  <tbody>\n",
       "  </tbody>\n",
       "</table>\n",
       "</div>"
      ],
      "text/plain": [
       "Empty DataFrame\n",
       "Columns: [model, displ, cyl, trans, drive, fuel, sales_area, veh_class, air_pollution_score, city_mpg, hwy_mpg, cmb_mpg, greenhouse_gas_score, smartway]\n",
       "Index: []"
      ]
     },
     "execution_count": 2491,
     "metadata": {},
     "output_type": "execute_result"
    }
   ],
   "source": [
    "#check if any values has / values in it\n",
    "\n",
    "df_13[df_13['fuel'].str.contains('/')]"
   ]
  },
  {
   "cell_type": "code",
   "execution_count": null,
   "metadata": {},
   "outputs": [],
   "source": []
  },
  {
   "cell_type": "markdown",
   "metadata": {},
   "source": [
    "### df_14"
   ]
  },
  {
   "cell_type": "code",
   "execution_count": 2492,
   "metadata": {},
   "outputs": [],
   "source": [
    "#first create a dataframe that has hybrid cars ie: Fuel type having two fuels\n",
    "\n",
    "df_14_hyb = df_14[df_14[\"fuel\"].str.contains(\"/\")]"
   ]
  },
  {
   "cell_type": "code",
   "execution_count": 2493,
   "metadata": {},
   "outputs": [],
   "source": [
    "#now create a two duplicate dataframe from orginal one\n",
    "\n",
    "df_14_1 = df_14_hyb.copy()\n",
    "df_14_2 = df_14_hyb.copy()"
   ]
  },
  {
   "cell_type": "code",
   "execution_count": 2494,
   "metadata": {},
   "outputs": [],
   "source": [
    "# create a list of columns that contains / in it\n",
    "\n",
    "split_columns = ['fuel',  'city_mpg', 'hwy_mpg', 'cmb_mpg']"
   ]
  },
  {
   "cell_type": "code",
   "execution_count": 2495,
   "metadata": {},
   "outputs": [],
   "source": [
    "#iterate and split the / values\n",
    "\n",
    "for i in split_columns:\n",
    "    df_14_1[i] = df_14_1[i].str.split(\"/\",expand = True)[0]\n",
    "    df_14_2[i] = df_14_2[i].str.split(\"/\",expand = True)[1]\n",
    "    "
   ]
  },
  {
   "cell_type": "code",
   "execution_count": 2496,
   "metadata": {},
   "outputs": [],
   "source": [
    "#now append both the dataset\n",
    "\n",
    "extracted_14 = df_14_1.append(df_14_2)\n"
   ]
  },
  {
   "cell_type": "code",
   "execution_count": 2497,
   "metadata": {},
   "outputs": [],
   "source": [
    "# lets drop the hybrid values (values that contains / ) from the dataset and add extracted values\n",
    "\n",
    "\n",
    "df_14.drop(df_14_hyb.index, inplace = True)\n"
   ]
  },
  {
   "cell_type": "code",
   "execution_count": 2498,
   "metadata": {},
   "outputs": [],
   "source": [
    "df_14 = df_14.append(extracted_14,ignore_index=True)"
   ]
  },
  {
   "cell_type": "code",
   "execution_count": 2499,
   "metadata": {},
   "outputs": [
    {
     "data": {
      "text/html": [
       "<div>\n",
       "<style scoped>\n",
       "    .dataframe tbody tr th:only-of-type {\n",
       "        vertical-align: middle;\n",
       "    }\n",
       "\n",
       "    .dataframe tbody tr th {\n",
       "        vertical-align: top;\n",
       "    }\n",
       "\n",
       "    .dataframe thead th {\n",
       "        text-align: right;\n",
       "    }\n",
       "</style>\n",
       "<table border=\"1\" class=\"dataframe\">\n",
       "  <thead>\n",
       "    <tr style=\"text-align: right;\">\n",
       "      <th></th>\n",
       "      <th>model</th>\n",
       "      <th>displ</th>\n",
       "      <th>cyl</th>\n",
       "      <th>trans</th>\n",
       "      <th>drive</th>\n",
       "      <th>fuel</th>\n",
       "      <th>sales_area</th>\n",
       "      <th>veh_class</th>\n",
       "      <th>air_pollution_score</th>\n",
       "      <th>city_mpg</th>\n",
       "      <th>hwy_mpg</th>\n",
       "      <th>cmb_mpg</th>\n",
       "      <th>greenhouse_gas_score</th>\n",
       "      <th>smartway</th>\n",
       "    </tr>\n",
       "  </thead>\n",
       "  <tbody>\n",
       "  </tbody>\n",
       "</table>\n",
       "</div>"
      ],
      "text/plain": [
       "Empty DataFrame\n",
       "Columns: [model, displ, cyl, trans, drive, fuel, sales_area, veh_class, air_pollution_score, city_mpg, hwy_mpg, cmb_mpg, greenhouse_gas_score, smartway]\n",
       "Index: []"
      ]
     },
     "execution_count": 2499,
     "metadata": {},
     "output_type": "execute_result"
    }
   ],
   "source": [
    "#check if any values has / values in it\n",
    "\n",
    "df_14[df_14['fuel'].str.contains('/')]"
   ]
  },
  {
   "cell_type": "code",
   "execution_count": null,
   "metadata": {},
   "outputs": [],
   "source": []
  },
  {
   "cell_type": "markdown",
   "metadata": {},
   "source": [
    "### df_15"
   ]
  },
  {
   "cell_type": "code",
   "execution_count": 2500,
   "metadata": {},
   "outputs": [],
   "source": [
    "#first create a dataframe that has hybrid cars ie: Fuel type having two fuels\n",
    "\n",
    "df_15_hyb = df_15[df_15[\"fuel\"].str.contains(\"/\")]"
   ]
  },
  {
   "cell_type": "code",
   "execution_count": 2501,
   "metadata": {},
   "outputs": [],
   "source": [
    "#now create a two duplicate dataframe from orginal one\n",
    "\n",
    "df_15_1 = df_15_hyb.copy()\n",
    "df_15_2 = df_15_hyb.copy()"
   ]
  },
  {
   "cell_type": "code",
   "execution_count": null,
   "metadata": {},
   "outputs": [],
   "source": []
  },
  {
   "cell_type": "code",
   "execution_count": 2502,
   "metadata": {},
   "outputs": [],
   "source": [
    "# create a list of columns that contains / in it\n",
    "\n",
    "split_columns = ['fuel',  'city_mpg', 'hwy_mpg', 'cmb_mpg']"
   ]
  },
  {
   "cell_type": "code",
   "execution_count": 2503,
   "metadata": {},
   "outputs": [],
   "source": [
    "#iterate and split the / values\n",
    "\n",
    "for i in split_columns:\n",
    "    df_15_1[i] = df_15_1[i].str.split(\"/\",expand = True)[0]\n",
    "    df_15_2[i] = df_15_2[i].str.split(\"/\",expand = True)[1]\n",
    "    "
   ]
  },
  {
   "cell_type": "code",
   "execution_count": 2504,
   "metadata": {},
   "outputs": [],
   "source": [
    "#now append both the dataset\n",
    "\n",
    "extracted_15 = df_15_1.append(df_15_2)\n"
   ]
  },
  {
   "cell_type": "code",
   "execution_count": 2505,
   "metadata": {},
   "outputs": [],
   "source": [
    "# lets drop the hybrid values (values that contains / ) from the dataset and add extracted values\n",
    "\n",
    "\n",
    "df_15.drop(df_15_hyb.index, inplace = True)\n"
   ]
  },
  {
   "cell_type": "code",
   "execution_count": 2506,
   "metadata": {},
   "outputs": [],
   "source": [
    "df_15 = df_15.append(extracted_15,ignore_index=True)"
   ]
  },
  {
   "cell_type": "code",
   "execution_count": 2507,
   "metadata": {},
   "outputs": [
    {
     "data": {
      "text/html": [
       "<div>\n",
       "<style scoped>\n",
       "    .dataframe tbody tr th:only-of-type {\n",
       "        vertical-align: middle;\n",
       "    }\n",
       "\n",
       "    .dataframe tbody tr th {\n",
       "        vertical-align: top;\n",
       "    }\n",
       "\n",
       "    .dataframe thead th {\n",
       "        text-align: right;\n",
       "    }\n",
       "</style>\n",
       "<table border=\"1\" class=\"dataframe\">\n",
       "  <thead>\n",
       "    <tr style=\"text-align: right;\">\n",
       "      <th></th>\n",
       "      <th>model</th>\n",
       "      <th>displ</th>\n",
       "      <th>cyl</th>\n",
       "      <th>trans</th>\n",
       "      <th>drive</th>\n",
       "      <th>fuel</th>\n",
       "      <th>sales_area</th>\n",
       "      <th>veh_class</th>\n",
       "      <th>air_pollution_score</th>\n",
       "      <th>city_mpg</th>\n",
       "      <th>hwy_mpg</th>\n",
       "      <th>cmb_mpg</th>\n",
       "      <th>greenhouse_gas_score</th>\n",
       "      <th>smartway</th>\n",
       "    </tr>\n",
       "  </thead>\n",
       "  <tbody>\n",
       "  </tbody>\n",
       "</table>\n",
       "</div>"
      ],
      "text/plain": [
       "Empty DataFrame\n",
       "Columns: [model, displ, cyl, trans, drive, fuel, sales_area, veh_class, air_pollution_score, city_mpg, hwy_mpg, cmb_mpg, greenhouse_gas_score, smartway]\n",
       "Index: []"
      ]
     },
     "execution_count": 2507,
     "metadata": {},
     "output_type": "execute_result"
    }
   ],
   "source": [
    "#check if any values has / values in it\n",
    "\n",
    "df_15[df_15['fuel'].str.contains('/')]"
   ]
  },
  {
   "cell_type": "code",
   "execution_count": null,
   "metadata": {},
   "outputs": [],
   "source": []
  },
  {
   "cell_type": "markdown",
   "metadata": {},
   "source": [
    "### df_16"
   ]
  },
  {
   "cell_type": "code",
   "execution_count": 2508,
   "metadata": {},
   "outputs": [],
   "source": [
    "#first create a dataframe that has hybrid cars ie: Fuel type having two fuels\n",
    "\n",
    "df_16_hyb = df_16[df_16[\"fuel\"].str.contains(\"/\")]"
   ]
  },
  {
   "cell_type": "code",
   "execution_count": 2509,
   "metadata": {},
   "outputs": [],
   "source": [
    "#now create a two duplicate dataframe from orginal one\n",
    "\n",
    "df_16_1 = df_16_hyb.copy()\n",
    "df_16_2 = df_16_hyb.copy()"
   ]
  },
  {
   "cell_type": "code",
   "execution_count": 2510,
   "metadata": {},
   "outputs": [],
   "source": [
    "# create a list of columns that contains / in it\n",
    "\n",
    "split_columns = ['fuel',  'city_mpg', 'hwy_mpg', 'cmb_mpg']"
   ]
  },
  {
   "cell_type": "code",
   "execution_count": 2511,
   "metadata": {},
   "outputs": [],
   "source": [
    "#iterate and split the / values\n",
    "\n",
    "for i in split_columns:\n",
    "    df_16_1[i] = df_16_1[i].str.split(\"/\",expand = True)[0]\n",
    "    df_16_2[i] = df_16_2[i].str.split(\"/\",expand = True)[1]\n",
    "    "
   ]
  },
  {
   "cell_type": "code",
   "execution_count": 2512,
   "metadata": {},
   "outputs": [],
   "source": [
    "#now append both the dataset\n",
    "\n",
    "extracted_16 = df_16_1.append(df_16_2)\n"
   ]
  },
  {
   "cell_type": "code",
   "execution_count": 2513,
   "metadata": {},
   "outputs": [],
   "source": [
    "# lets drop the hybrid values (values that contains / ) from the dataset and add extracted values\n",
    "\n",
    "\n",
    "df_16.drop(df_16_hyb.index, inplace = True)\n"
   ]
  },
  {
   "cell_type": "code",
   "execution_count": 2514,
   "metadata": {},
   "outputs": [],
   "source": [
    "df_16 = df_16.append(extracted_16,ignore_index=True)"
   ]
  },
  {
   "cell_type": "code",
   "execution_count": 2515,
   "metadata": {},
   "outputs": [
    {
     "data": {
      "text/html": [
       "<div>\n",
       "<style scoped>\n",
       "    .dataframe tbody tr th:only-of-type {\n",
       "        vertical-align: middle;\n",
       "    }\n",
       "\n",
       "    .dataframe tbody tr th {\n",
       "        vertical-align: top;\n",
       "    }\n",
       "\n",
       "    .dataframe thead th {\n",
       "        text-align: right;\n",
       "    }\n",
       "</style>\n",
       "<table border=\"1\" class=\"dataframe\">\n",
       "  <thead>\n",
       "    <tr style=\"text-align: right;\">\n",
       "      <th></th>\n",
       "      <th>model</th>\n",
       "      <th>displ</th>\n",
       "      <th>cyl</th>\n",
       "      <th>trans</th>\n",
       "      <th>drive</th>\n",
       "      <th>fuel</th>\n",
       "      <th>sales_area</th>\n",
       "      <th>veh_class</th>\n",
       "      <th>air_pollution_score</th>\n",
       "      <th>city_mpg</th>\n",
       "      <th>hwy_mpg</th>\n",
       "      <th>cmb_mpg</th>\n",
       "      <th>greenhouse_gas_score</th>\n",
       "      <th>smartway</th>\n",
       "    </tr>\n",
       "  </thead>\n",
       "  <tbody>\n",
       "  </tbody>\n",
       "</table>\n",
       "</div>"
      ],
      "text/plain": [
       "Empty DataFrame\n",
       "Columns: [model, displ, cyl, trans, drive, fuel, sales_area, veh_class, air_pollution_score, city_mpg, hwy_mpg, cmb_mpg, greenhouse_gas_score, smartway]\n",
       "Index: []"
      ]
     },
     "execution_count": 2515,
     "metadata": {},
     "output_type": "execute_result"
    }
   ],
   "source": [
    "#check if any values has / values in it\n",
    "\n",
    "df_16[df_16['fuel'].str.contains('/')]"
   ]
  },
  {
   "cell_type": "code",
   "execution_count": null,
   "metadata": {},
   "outputs": [],
   "source": []
  },
  {
   "cell_type": "markdown",
   "metadata": {},
   "source": [
    "### df_17"
   ]
  },
  {
   "cell_type": "code",
   "execution_count": 2516,
   "metadata": {},
   "outputs": [],
   "source": [
    "#first create a dataframe that has hybrid cars ie: Fuel type having two fuels\n",
    "\n",
    "df_17_hyb = df_17[df_17[\"fuel\"].str.contains(\"/\")]"
   ]
  },
  {
   "cell_type": "code",
   "execution_count": 2517,
   "metadata": {},
   "outputs": [],
   "source": [
    "#now create a two duplicate dataframe from orginal one\n",
    "\n",
    "df_17_1 = df_17_hyb.copy()\n",
    "df_17_2 = df_17_hyb.copy()"
   ]
  },
  {
   "cell_type": "code",
   "execution_count": null,
   "metadata": {},
   "outputs": [],
   "source": []
  },
  {
   "cell_type": "code",
   "execution_count": 2518,
   "metadata": {},
   "outputs": [],
   "source": [
    "# create a list of columns that contains / in it\n",
    "\n",
    "split_columns = ['fuel',  'city_mpg', 'hwy_mpg', 'cmb_mpg']"
   ]
  },
  {
   "cell_type": "code",
   "execution_count": 2519,
   "metadata": {},
   "outputs": [],
   "source": [
    "#iterate and split the / values\n",
    "\n",
    "for i in split_columns:\n",
    "    df_17_1[i] = df_17_1[i].str.split(\"/\",expand = True)[0]\n",
    "    df_17_2[i] = df_17_2[i].str.split(\"/\",expand = True)[1]\n",
    "    "
   ]
  },
  {
   "cell_type": "code",
   "execution_count": 2520,
   "metadata": {},
   "outputs": [],
   "source": [
    "#now append both the dataset\n",
    "\n",
    "extracted_17 = df_17_1.append(df_17_2)\n"
   ]
  },
  {
   "cell_type": "code",
   "execution_count": 2521,
   "metadata": {},
   "outputs": [],
   "source": [
    "# lets drop the hybrid values (values that contains / ) from the dataset and add extracted values\n",
    "\n",
    "\n",
    "df_17.drop(df_17_hyb.index, inplace = True)\n"
   ]
  },
  {
   "cell_type": "code",
   "execution_count": 2522,
   "metadata": {},
   "outputs": [],
   "source": [
    "df_17 = df_17.append(extracted_17,ignore_index=True)"
   ]
  },
  {
   "cell_type": "code",
   "execution_count": 2523,
   "metadata": {},
   "outputs": [
    {
     "data": {
      "text/html": [
       "<div>\n",
       "<style scoped>\n",
       "    .dataframe tbody tr th:only-of-type {\n",
       "        vertical-align: middle;\n",
       "    }\n",
       "\n",
       "    .dataframe tbody tr th {\n",
       "        vertical-align: top;\n",
       "    }\n",
       "\n",
       "    .dataframe thead th {\n",
       "        text-align: right;\n",
       "    }\n",
       "</style>\n",
       "<table border=\"1\" class=\"dataframe\">\n",
       "  <thead>\n",
       "    <tr style=\"text-align: right;\">\n",
       "      <th></th>\n",
       "      <th>model</th>\n",
       "      <th>displ</th>\n",
       "      <th>cyl</th>\n",
       "      <th>trans</th>\n",
       "      <th>drive</th>\n",
       "      <th>fuel</th>\n",
       "      <th>sales_area</th>\n",
       "      <th>veh_class</th>\n",
       "      <th>air_pollution_score</th>\n",
       "      <th>city_mpg</th>\n",
       "      <th>hwy_mpg</th>\n",
       "      <th>cmb_mpg</th>\n",
       "      <th>greenhouse_gas_score</th>\n",
       "      <th>smartway</th>\n",
       "    </tr>\n",
       "  </thead>\n",
       "  <tbody>\n",
       "  </tbody>\n",
       "</table>\n",
       "</div>"
      ],
      "text/plain": [
       "Empty DataFrame\n",
       "Columns: [model, displ, cyl, trans, drive, fuel, sales_area, veh_class, air_pollution_score, city_mpg, hwy_mpg, cmb_mpg, greenhouse_gas_score, smartway]\n",
       "Index: []"
      ]
     },
     "execution_count": 2523,
     "metadata": {},
     "output_type": "execute_result"
    }
   ],
   "source": [
    "#check if any values has / values in it\n",
    "\n",
    "df_17[df_17['fuel'].str.contains('/')]"
   ]
  },
  {
   "cell_type": "code",
   "execution_count": null,
   "metadata": {},
   "outputs": [],
   "source": []
  },
  {
   "cell_type": "markdown",
   "metadata": {},
   "source": [
    "### df_18"
   ]
  },
  {
   "cell_type": "code",
   "execution_count": 2524,
   "metadata": {},
   "outputs": [],
   "source": [
    "#first create a dataframe that has hybrid cars ie: Fuel type having two fuels\n",
    "\n",
    "df_18_hyb = df_18[df_18[\"fuel\"].str.contains(\"/\")]"
   ]
  },
  {
   "cell_type": "code",
   "execution_count": 2525,
   "metadata": {},
   "outputs": [],
   "source": [
    "#now create a two duplicate dataframe from orginal one\n",
    "\n",
    "df_18_1 = df_18_hyb.copy()\n",
    "df_18_2 = df_18_hyb.copy()"
   ]
  },
  {
   "cell_type": "code",
   "execution_count": 2526,
   "metadata": {},
   "outputs": [],
   "source": [
    "# create a list of columns that contains / in it\n",
    "\n",
    "split_columns = ['fuel',  'city_mpg', 'hwy_mpg', 'cmb_mpg']"
   ]
  },
  {
   "cell_type": "code",
   "execution_count": 2527,
   "metadata": {},
   "outputs": [],
   "source": [
    "#iterate and split the / values\n",
    "\n",
    "for i in split_columns:\n",
    "    df_18_1[i] = df_18_1[i].str.split(\"/\",expand = True)[0]\n",
    "    df_18_2[i] = df_18_2[i].str.split(\"/\",expand = True)[1]\n",
    "    "
   ]
  },
  {
   "cell_type": "code",
   "execution_count": 2528,
   "metadata": {},
   "outputs": [],
   "source": [
    "#now append both the dataset\n",
    "\n",
    "extracted_18 = df_18_1.append(df_18_2)\n"
   ]
  },
  {
   "cell_type": "code",
   "execution_count": 2529,
   "metadata": {},
   "outputs": [],
   "source": [
    "# lets drop the hybrid values (values that contains / ) from the dataset and add extracted values\n",
    "\n",
    "\n",
    "df_18.drop(df_18_hyb.index, inplace = True)\n"
   ]
  },
  {
   "cell_type": "code",
   "execution_count": 2530,
   "metadata": {},
   "outputs": [],
   "source": [
    "df_18 = df_18.append(extracted_18,ignore_index=True)"
   ]
  },
  {
   "cell_type": "code",
   "execution_count": 2531,
   "metadata": {},
   "outputs": [
    {
     "data": {
      "text/html": [
       "<div>\n",
       "<style scoped>\n",
       "    .dataframe tbody tr th:only-of-type {\n",
       "        vertical-align: middle;\n",
       "    }\n",
       "\n",
       "    .dataframe tbody tr th {\n",
       "        vertical-align: top;\n",
       "    }\n",
       "\n",
       "    .dataframe thead th {\n",
       "        text-align: right;\n",
       "    }\n",
       "</style>\n",
       "<table border=\"1\" class=\"dataframe\">\n",
       "  <thead>\n",
       "    <tr style=\"text-align: right;\">\n",
       "      <th></th>\n",
       "      <th>model</th>\n",
       "      <th>displ</th>\n",
       "      <th>cyl</th>\n",
       "      <th>trans</th>\n",
       "      <th>drive</th>\n",
       "      <th>fuel</th>\n",
       "      <th>sales_area</th>\n",
       "      <th>veh_class</th>\n",
       "      <th>air_pollution_score</th>\n",
       "      <th>city_mpg</th>\n",
       "      <th>hwy_mpg</th>\n",
       "      <th>cmb_mpg</th>\n",
       "      <th>greenhouse_gas_score</th>\n",
       "      <th>smartway</th>\n",
       "    </tr>\n",
       "  </thead>\n",
       "  <tbody>\n",
       "  </tbody>\n",
       "</table>\n",
       "</div>"
      ],
      "text/plain": [
       "Empty DataFrame\n",
       "Columns: [model, displ, cyl, trans, drive, fuel, sales_area, veh_class, air_pollution_score, city_mpg, hwy_mpg, cmb_mpg, greenhouse_gas_score, smartway]\n",
       "Index: []"
      ]
     },
     "execution_count": 2531,
     "metadata": {},
     "output_type": "execute_result"
    }
   ],
   "source": [
    "#check if any values has / values in it\n",
    "\n",
    "df_18[df_18['fuel'].str.contains('/')]"
   ]
  },
  {
   "cell_type": "code",
   "execution_count": null,
   "metadata": {},
   "outputs": [],
   "source": []
  },
  {
   "cell_type": "code",
   "execution_count": 2532,
   "metadata": {},
   "outputs": [
    {
     "data": {
      "text/plain": [
       "model                   0\n",
       "displ                   0\n",
       "cyl                     0\n",
       "trans                   0\n",
       "drive                   0\n",
       "fuel                    0\n",
       "sales_area              0\n",
       "veh_class               0\n",
       "air_pollution_score     0\n",
       "city_mpg                1\n",
       "hwy_mpg                 1\n",
       "cmb_mpg                 1\n",
       "greenhouse_gas_score    0\n",
       "smartway                0\n",
       "dtype: int64"
      ]
     },
     "execution_count": 2532,
     "metadata": {},
     "output_type": "execute_result"
    }
   ],
   "source": [
    "#df13 and df15 has some null values so removing it\n",
    "\n",
    "df_13.isnull().sum()"
   ]
  },
  {
   "cell_type": "code",
   "execution_count": 2533,
   "metadata": {},
   "outputs": [
    {
     "data": {
      "text/plain": [
       "model                   0\n",
       "displ                   0\n",
       "cyl                     0\n",
       "trans                   0\n",
       "drive                   0\n",
       "fuel                    0\n",
       "sales_area              0\n",
       "veh_class               0\n",
       "air_pollution_score     0\n",
       "city_mpg                2\n",
       "hwy_mpg                 2\n",
       "cmb_mpg                 2\n",
       "greenhouse_gas_score    0\n",
       "smartway                0\n",
       "dtype: int64"
      ]
     },
     "execution_count": 2533,
     "metadata": {},
     "output_type": "execute_result"
    }
   ],
   "source": [
    "df_15.isnull().sum()"
   ]
  },
  {
   "cell_type": "code",
   "execution_count": 2534,
   "metadata": {},
   "outputs": [],
   "source": [
    "df_13.dropna(inplace=True)"
   ]
  },
  {
   "cell_type": "code",
   "execution_count": 2535,
   "metadata": {},
   "outputs": [],
   "source": [
    "df_15.dropna(inplace=True)"
   ]
  },
  {
   "cell_type": "markdown",
   "metadata": {},
   "source": [
    "###### changing MPG datatypes to int"
   ]
  },
  {
   "cell_type": "code",
   "execution_count": null,
   "metadata": {},
   "outputs": [],
   "source": []
  },
  {
   "cell_type": "code",
   "execution_count": 2536,
   "metadata": {},
   "outputs": [],
   "source": [
    "mpg_list = ['city_mpg','hwy_mpg','cmb_mpg']"
   ]
  },
  {
   "cell_type": "code",
   "execution_count": 2537,
   "metadata": {},
   "outputs": [],
   "source": [
    "for i in mpg_list:\n",
    "    df_8[i] = df_8[i].astype(\"int\")\n",
    "    df_9[i] = df_9[i].astype(\"int\")\n",
    "    df_10[i] = df_10[i].astype(\"int\")\n",
    "    df_11[i] = df_11[i].astype(\"int\")\n",
    "    df_12[i] = df_12[i].astype(\"int\")\n",
    "    df_13[i] = df_13[i].astype(\"int\")\n",
    "    df_14[i] = df_14[i].astype(\"int\")\n",
    "    df_15[i] = df_15[i].astype(\"int\")\n",
    "    df_16[i] = df_16[i].astype(\"int\")\n",
    "    df_17[i] = df_17[i].astype(\"int\")\n",
    "    df_18[i] = df_18[i].astype(\"int\")\n",
    "    "
   ]
  },
  {
   "cell_type": "code",
   "execution_count": null,
   "metadata": {},
   "outputs": [],
   "source": []
  },
  {
   "cell_type": "markdown",
   "metadata": {},
   "source": [
    "###### changing cyl column in correct format"
   ]
  },
  {
   "cell_type": "code",
   "execution_count": 2538,
   "metadata": {},
   "outputs": [],
   "source": [
    "#need to only extract the numerical values and change the datatype to float"
   ]
  },
  {
   "cell_type": "code",
   "execution_count": 2539,
   "metadata": {},
   "outputs": [],
   "source": [
    "df_8['cyl'] = df_8['cyl'].str.extract('(\\d+)').astype(\"float\")\n"
   ]
  },
  {
   "cell_type": "code",
   "execution_count": 2540,
   "metadata": {},
   "outputs": [],
   "source": [
    "#df_8['drive'].unique()"
   ]
  },
  {
   "cell_type": "code",
   "execution_count": 2541,
   "metadata": {},
   "outputs": [
    {
     "data": {
      "text/plain": [
       "'The above code shows that drive columns has WD string, which we are going to remove and change as int datatype'"
      ]
     },
     "execution_count": 2541,
     "metadata": {},
     "output_type": "execute_result"
    }
   ],
   "source": [
    "\"\"\"The above code shows that drive columns has WD string, which we are going to remove and change as int datatype\"\"\""
   ]
  },
  {
   "cell_type": "code",
   "execution_count": 2542,
   "metadata": {},
   "outputs": [],
   "source": [
    "df_8['drive'] = df_8['drive'].str.replace('WD','').astype('int')"
   ]
  },
  {
   "cell_type": "code",
   "execution_count": 2543,
   "metadata": {},
   "outputs": [],
   "source": [
    "df_9['drive'] = df_9['drive'].str.replace('WD','').astype('int')"
   ]
  },
  {
   "cell_type": "code",
   "execution_count": 2544,
   "metadata": {},
   "outputs": [],
   "source": [
    "df_10['drive'] = df_10['drive'].str.replace('WD','').astype('int')"
   ]
  },
  {
   "cell_type": "code",
   "execution_count": 2545,
   "metadata": {},
   "outputs": [],
   "source": [
    "df_11['drive'] = df_11['drive'].str.replace('WD','').astype('int')"
   ]
  },
  {
   "cell_type": "code",
   "execution_count": 2546,
   "metadata": {},
   "outputs": [],
   "source": [
    "df_12['drive'] = df_12['drive'].str.replace('WD','').astype('int')"
   ]
  },
  {
   "cell_type": "code",
   "execution_count": 2547,
   "metadata": {},
   "outputs": [],
   "source": [
    "df_13['drive'] = df_13['drive'].str.replace('WD','').astype('int')"
   ]
  },
  {
   "cell_type": "code",
   "execution_count": 2548,
   "metadata": {},
   "outputs": [],
   "source": [
    "df_14['drive'] = df_14['drive'].str.replace('WD','').astype('int')"
   ]
  },
  {
   "cell_type": "code",
   "execution_count": 2549,
   "metadata": {},
   "outputs": [],
   "source": [
    "df_15['drive'] = df_15['drive'].str.replace('WD','').astype('int')"
   ]
  },
  {
   "cell_type": "code",
   "execution_count": 2550,
   "metadata": {},
   "outputs": [],
   "source": [
    "df_16['drive'] = df_16['drive'].str.replace('WD','').astype('int')"
   ]
  },
  {
   "cell_type": "code",
   "execution_count": 2551,
   "metadata": {},
   "outputs": [],
   "source": [
    "df_17['drive'] = df_17['drive'].str.replace('WD','').astype('int')"
   ]
  },
  {
   "cell_type": "code",
   "execution_count": 2552,
   "metadata": {},
   "outputs": [],
   "source": [
    "df_18['drive'] = df_18['drive'].str.replace('WD','').astype('int')"
   ]
  },
  {
   "cell_type": "code",
   "execution_count": null,
   "metadata": {},
   "outputs": [],
   "source": []
  },
  {
   "cell_type": "code",
   "execution_count": 2553,
   "metadata": {},
   "outputs": [
    {
     "data": {
      "text/plain": [
       "' Air pollution score and greenhouse gas score has value Mod. which make the column datatype as string.\\nAssuming mod as moderate we can change those values in 5 and change the datatypes as int '"
      ]
     },
     "execution_count": 2553,
     "metadata": {},
     "output_type": "execute_result"
    }
   ],
   "source": [
    "\"\"\" Air pollution score and greenhouse gas score has value Mod. which make the column datatype as string.\n",
    "Assuming mod as moderate we can change those values in 5 and change the datatypes as int \"\"\""
   ]
  },
  {
   "cell_type": "code",
   "execution_count": 2554,
   "metadata": {},
   "outputs": [
    {
     "data": {
      "text/html": [
       "<div>\n",
       "<style scoped>\n",
       "    .dataframe tbody tr th:only-of-type {\n",
       "        vertical-align: middle;\n",
       "    }\n",
       "\n",
       "    .dataframe tbody tr th {\n",
       "        vertical-align: top;\n",
       "    }\n",
       "\n",
       "    .dataframe thead th {\n",
       "        text-align: right;\n",
       "    }\n",
       "</style>\n",
       "<table border=\"1\" class=\"dataframe\">\n",
       "  <thead>\n",
       "    <tr style=\"text-align: right;\">\n",
       "      <th></th>\n",
       "      <th>model</th>\n",
       "      <th>displ</th>\n",
       "      <th>cyl</th>\n",
       "      <th>trans</th>\n",
       "      <th>drive</th>\n",
       "      <th>fuel</th>\n",
       "      <th>sales_area</th>\n",
       "      <th>veh_class</th>\n",
       "      <th>air_pollution_score</th>\n",
       "      <th>city_mpg</th>\n",
       "      <th>hwy_mpg</th>\n",
       "      <th>cmb_mpg</th>\n",
       "      <th>greenhouse_gas_score</th>\n",
       "      <th>smartway</th>\n",
       "    </tr>\n",
       "  </thead>\n",
       "  <tbody>\n",
       "    <tr>\n",
       "      <th>68</th>\n",
       "      <td>AUDI Q7</td>\n",
       "      <td>3.0</td>\n",
       "      <td>6.0</td>\n",
       "      <td>Auto-S6</td>\n",
       "      <td>4</td>\n",
       "      <td>diesel</td>\n",
       "      <td>FA</td>\n",
       "      <td>SUV</td>\n",
       "      <td>Mod</td>\n",
       "      <td>17</td>\n",
       "      <td>24</td>\n",
       "      <td>20</td>\n",
       "      <td>Mod</td>\n",
       "      <td>no</td>\n",
       "    </tr>\n",
       "    <tr>\n",
       "      <th>69</th>\n",
       "      <td>AUDI Q7</td>\n",
       "      <td>3.0</td>\n",
       "      <td>6.0</td>\n",
       "      <td>Auto-S6</td>\n",
       "      <td>4</td>\n",
       "      <td>diesel</td>\n",
       "      <td>CA</td>\n",
       "      <td>SUV</td>\n",
       "      <td>Mod</td>\n",
       "      <td>17</td>\n",
       "      <td>24</td>\n",
       "      <td>20</td>\n",
       "      <td>Mod</td>\n",
       "      <td>no</td>\n",
       "    </tr>\n",
       "    <tr>\n",
       "      <th>2068</th>\n",
       "      <td>VOLKSWAGEN Jetta</td>\n",
       "      <td>2.0</td>\n",
       "      <td>4.0</td>\n",
       "      <td>Auto-S6</td>\n",
       "      <td>2</td>\n",
       "      <td>diesel</td>\n",
       "      <td>FA</td>\n",
       "      <td>small car</td>\n",
       "      <td>Mod</td>\n",
       "      <td>29</td>\n",
       "      <td>37</td>\n",
       "      <td>32</td>\n",
       "      <td>Mod</td>\n",
       "      <td>yes</td>\n",
       "    </tr>\n",
       "    <tr>\n",
       "      <th>2069</th>\n",
       "      <td>VOLKSWAGEN Jetta</td>\n",
       "      <td>2.0</td>\n",
       "      <td>4.0</td>\n",
       "      <td>Man-6</td>\n",
       "      <td>2</td>\n",
       "      <td>diesel</td>\n",
       "      <td>FA</td>\n",
       "      <td>small car</td>\n",
       "      <td>Mod</td>\n",
       "      <td>29</td>\n",
       "      <td>39</td>\n",
       "      <td>32</td>\n",
       "      <td>Mod</td>\n",
       "      <td>yes</td>\n",
       "    </tr>\n",
       "    <tr>\n",
       "      <th>2070</th>\n",
       "      <td>VOLKSWAGEN Jetta</td>\n",
       "      <td>2.0</td>\n",
       "      <td>4.0</td>\n",
       "      <td>Auto-S6</td>\n",
       "      <td>2</td>\n",
       "      <td>diesel</td>\n",
       "      <td>CA</td>\n",
       "      <td>small car</td>\n",
       "      <td>Mod</td>\n",
       "      <td>29</td>\n",
       "      <td>37</td>\n",
       "      <td>32</td>\n",
       "      <td>Mod</td>\n",
       "      <td>yes</td>\n",
       "    </tr>\n",
       "  </tbody>\n",
       "</table>\n",
       "</div>"
      ],
      "text/plain": [
       "                 model  displ  cyl    trans  drive    fuel sales_area  \\\n",
       "68             AUDI Q7    3.0  6.0  Auto-S6      4  diesel         FA   \n",
       "69             AUDI Q7    3.0  6.0  Auto-S6      4  diesel         CA   \n",
       "2068  VOLKSWAGEN Jetta    2.0  4.0  Auto-S6      2  diesel         FA   \n",
       "2069  VOLKSWAGEN Jetta    2.0  4.0    Man-6      2  diesel         FA   \n",
       "2070  VOLKSWAGEN Jetta    2.0  4.0  Auto-S6      2  diesel         CA   \n",
       "\n",
       "      veh_class air_pollution_score  city_mpg  hwy_mpg  cmb_mpg  \\\n",
       "68          SUV                 Mod        17       24       20   \n",
       "69          SUV                 Mod        17       24       20   \n",
       "2068  small car                 Mod        29       37       32   \n",
       "2069  small car                 Mod        29       39       32   \n",
       "2070  small car                 Mod        29       37       32   \n",
       "\n",
       "     greenhouse_gas_score smartway  \n",
       "68                    Mod       no  \n",
       "69                    Mod       no  \n",
       "2068                  Mod      yes  \n",
       "2069                  Mod      yes  \n",
       "2070                  Mod      yes  "
      ]
     },
     "execution_count": 2554,
     "metadata": {},
     "output_type": "execute_result"
    }
   ],
   "source": [
    "df_9.query(\"greenhouse_gas_score == 'Mod'\").head()"
   ]
  },
  {
   "cell_type": "code",
   "execution_count": null,
   "metadata": {},
   "outputs": [],
   "source": []
  },
  {
   "cell_type": "code",
   "execution_count": 2555,
   "metadata": {},
   "outputs": [],
   "source": [
    "mod_list = [\"air_pollution_score\",\"greenhouse_gas_score\"]"
   ]
  },
  {
   "cell_type": "code",
   "execution_count": 2556,
   "metadata": {},
   "outputs": [],
   "source": [
    "for i in mod_list:\n",
    "    df_17[i] = df_17[i].astype(\"float\")"
   ]
  },
  {
   "cell_type": "code",
   "execution_count": 2557,
   "metadata": {},
   "outputs": [],
   "source": [
    "for i in mod_list:\n",
    "    df_18[i] = df_18[i].astype(\"float\")"
   ]
  },
  {
   "cell_type": "code",
   "execution_count": 2558,
   "metadata": {},
   "outputs": [],
   "source": [
    "for i in mod_list:\n",
    "    df_8[i] = df_8[i].astype(\"float\")"
   ]
  },
  {
   "cell_type": "code",
   "execution_count": 2559,
   "metadata": {},
   "outputs": [],
   "source": [
    "for i in mod_list:\n",
    "    df_9[i] = df_9[i].str.replace(\"Mod\",\"5\").astype(\"float\")\n",
    "    \n",
    "    "
   ]
  },
  {
   "cell_type": "code",
   "execution_count": 2560,
   "metadata": {},
   "outputs": [],
   "source": [
    "for i in mod_list:\n",
    "    df_10[i] = df_10[i].str.replace(\"Mod\",\"5\").astype(\"float\")"
   ]
  },
  {
   "cell_type": "code",
   "execution_count": 2561,
   "metadata": {},
   "outputs": [],
   "source": [
    "for i in mod_list:\n",
    "    df_11[i] = df_11[i].str.replace(\"Mod\",\"5\").astype(\"float\")"
   ]
  },
  {
   "cell_type": "code",
   "execution_count": 2562,
   "metadata": {},
   "outputs": [],
   "source": [
    "for i in mod_list:\n",
    "    df_12[i] = df_12[i].str.replace(\"Mod\",\"5\").astype(\"float\")"
   ]
  },
  {
   "cell_type": "code",
   "execution_count": 2563,
   "metadata": {},
   "outputs": [],
   "source": [
    "for i in mod_list:\n",
    "    df_13[i] = df_13[i].str.replace(\"Mod\",\"5\").astype(\"float\")"
   ]
  },
  {
   "cell_type": "code",
   "execution_count": 2564,
   "metadata": {},
   "outputs": [],
   "source": [
    "for i in mod_list:\n",
    "    df_14[i] = df_14[i].str.replace(\"Mod\",\"5\").astype(\"float\")"
   ]
  },
  {
   "cell_type": "code",
   "execution_count": 2565,
   "metadata": {},
   "outputs": [],
   "source": [
    "for i in mod_list:\n",
    "    df_15[i] = df_15[i].str.replace(\"Mod\",\"5\").astype(\"float\")"
   ]
  },
  {
   "cell_type": "code",
   "execution_count": 2566,
   "metadata": {},
   "outputs": [],
   "source": [
    "for i in mod_list:\n",
    "    df_16[i] = df_16[i].str.replace(\"Mod\",\"5\").astype(\"float\")"
   ]
  },
  {
   "cell_type": "code",
   "execution_count": null,
   "metadata": {},
   "outputs": [],
   "source": []
  },
  {
   "cell_type": "code",
   "execution_count": null,
   "metadata": {},
   "outputs": [],
   "source": []
  },
  {
   "cell_type": "markdown",
   "metadata": {},
   "source": [
    "## All the column data type has been corrected and cleaned :)"
   ]
  },
  {
   "cell_type": "markdown",
   "metadata": {},
   "source": [
    "### Problem 2 : Are more unique models using alternative sources of fuel? By how much?"
   ]
  },
  {
   "cell_type": "markdown",
   "metadata": {},
   "source": [
    "##### \"\"\"We need to find all the alternative source of fuel consumed by unique model in each year and plot it in a graph\"\"\""
   ]
  },
  {
   "cell_type": "code",
   "execution_count": 2567,
   "metadata": {},
   "outputs": [
    {
     "data": {
      "text/plain": [
       "array(['Gasoline', 'ethanol', 'CNG', 'diesel', 'gas'], dtype=object)"
      ]
     },
     "execution_count": 2567,
     "metadata": {},
     "output_type": "execute_result"
    }
   ],
   "source": [
    "df_8[\"fuel\"].unique()"
   ]
  },
  {
   "cell_type": "code",
   "execution_count": 2568,
   "metadata": {},
   "outputs": [],
   "source": [
    "#Here CNG and ethanol are the alternative source of fuel. in the next cell we will find the unique models that are using th"
   ]
  },
  {
   "cell_type": "code",
   "execution_count": 2569,
   "metadata": {},
   "outputs": [],
   "source": [
    "Unique_8 = df_8.query(\"fuel in ['CNG','ethanol']\").model.nunique()"
   ]
  },
  {
   "cell_type": "code",
   "execution_count": 2570,
   "metadata": {},
   "outputs": [
    {
     "data": {
      "text/plain": [
       "33"
      ]
     },
     "execution_count": 2570,
     "metadata": {},
     "output_type": "execute_result"
    }
   ],
   "source": [
    "Unique_8"
   ]
  },
  {
   "cell_type": "code",
   "execution_count": 2571,
   "metadata": {},
   "outputs": [],
   "source": [
    "#In the same way we need to find the unique models using alternative fuel for all the year"
   ]
  },
  {
   "cell_type": "code",
   "execution_count": 2572,
   "metadata": {},
   "outputs": [
    {
     "data": {
      "text/plain": [
       "array(['Gasoline', 'diesel', 'CNG', 'ethanol', 'Ethanol', 'gas', 'Gas'],\n",
       "      dtype=object)"
      ]
     },
     "execution_count": 2572,
     "metadata": {},
     "output_type": "execute_result"
    }
   ],
   "source": [
    "df_9[\"fuel\"].unique()"
   ]
  },
  {
   "cell_type": "code",
   "execution_count": 2573,
   "metadata": {},
   "outputs": [],
   "source": [
    "unique_9 = df_9.query(\"fuel in ['CNG','Ethanol','ethanol']\").model.nunique()"
   ]
  },
  {
   "cell_type": "code",
   "execution_count": 2574,
   "metadata": {},
   "outputs": [
    {
     "data": {
      "text/plain": [
       "44"
      ]
     },
     "execution_count": 2574,
     "metadata": {},
     "output_type": "execute_result"
    }
   ],
   "source": [
    "unique_9"
   ]
  },
  {
   "cell_type": "code",
   "execution_count": 2575,
   "metadata": {},
   "outputs": [
    {
     "data": {
      "text/plain": [
       "array(['Gasoline', 'Diesel', 'Ethanol', 'CNG', 'Gas'], dtype=object)"
      ]
     },
     "execution_count": 2575,
     "metadata": {},
     "output_type": "execute_result"
    }
   ],
   "source": [
    "df_10[\"fuel\"].unique()"
   ]
  },
  {
   "cell_type": "code",
   "execution_count": 2576,
   "metadata": {},
   "outputs": [],
   "source": [
    "unique_10 = df_10.query(\"fuel in ['CNG','Ethanol']\").model.nunique()"
   ]
  },
  {
   "cell_type": "code",
   "execution_count": 2577,
   "metadata": {},
   "outputs": [
    {
     "data": {
      "text/plain": [
       "49"
      ]
     },
     "execution_count": 2577,
     "metadata": {},
     "output_type": "execute_result"
    }
   ],
   "source": [
    "unique_10"
   ]
  },
  {
   "cell_type": "code",
   "execution_count": 2578,
   "metadata": {},
   "outputs": [
    {
     "data": {
      "text/plain": [
       "array(['Gasoline', 'Diesel', 'CNG', 'Ethanol', 'Electricity', 'Gas'],\n",
       "      dtype=object)"
      ]
     },
     "execution_count": 2578,
     "metadata": {},
     "output_type": "execute_result"
    }
   ],
   "source": [
    "df_11[\"fuel\"].unique()"
   ]
  },
  {
   "cell_type": "code",
   "execution_count": 2579,
   "metadata": {},
   "outputs": [],
   "source": [
    "unique_11 = df_11.query(\"fuel in ['CNG','Ethanol','Electricity']\").model.nunique()"
   ]
  },
  {
   "cell_type": "code",
   "execution_count": 2580,
   "metadata": {},
   "outputs": [
    {
     "data": {
      "text/plain": [
       "71"
      ]
     },
     "execution_count": 2580,
     "metadata": {},
     "output_type": "execute_result"
    }
   ],
   "source": [
    "unique_11"
   ]
  },
  {
   "cell_type": "code",
   "execution_count": 2581,
   "metadata": {},
   "outputs": [
    {
     "data": {
      "text/plain": [
       "array(['Gasoline', 'Diesel', 'CNG', 'Ethanol', 'Gas', 'Electricity'],\n",
       "      dtype=object)"
      ]
     },
     "execution_count": 2581,
     "metadata": {},
     "output_type": "execute_result"
    }
   ],
   "source": [
    "df_12[\"fuel\"].unique()"
   ]
  },
  {
   "cell_type": "code",
   "execution_count": 2582,
   "metadata": {},
   "outputs": [
    {
     "data": {
      "text/plain": [
       "75"
      ]
     },
     "execution_count": 2582,
     "metadata": {},
     "output_type": "execute_result"
    }
   ],
   "source": [
    "unique_12 = df_12.query(\"fuel in ['CNG','Ethanol','Electricity']\").model.nunique()\n",
    "unique_12"
   ]
  },
  {
   "cell_type": "code",
   "execution_count": 2583,
   "metadata": {},
   "outputs": [
    {
     "data": {
      "text/plain": [
       "array(['Gasoline', 'Diesel', 'CNG', 'Ethanol', 'Gas', 'Electricity'],\n",
       "      dtype=object)"
      ]
     },
     "execution_count": 2583,
     "metadata": {},
     "output_type": "execute_result"
    }
   ],
   "source": [
    "df_13[\"fuel\"].unique()"
   ]
  },
  {
   "cell_type": "code",
   "execution_count": 2584,
   "metadata": {},
   "outputs": [
    {
     "data": {
      "text/plain": [
       "80"
      ]
     },
     "execution_count": 2584,
     "metadata": {},
     "output_type": "execute_result"
    }
   ],
   "source": [
    "unique_13 = df_13.query(\"fuel in ['CNG','Ethanol','Electricity']\").model.nunique()\n",
    "unique_13"
   ]
  },
  {
   "cell_type": "code",
   "execution_count": 2585,
   "metadata": {},
   "outputs": [
    {
     "data": {
      "text/plain": [
       "array(['Gasoline', 'Diesel', 'CNG', 'Ethanol', 'Gas', 'Electricity'],\n",
       "      dtype=object)"
      ]
     },
     "execution_count": 2585,
     "metadata": {},
     "output_type": "execute_result"
    }
   ],
   "source": [
    "df_14[\"fuel\"].unique()"
   ]
  },
  {
   "cell_type": "code",
   "execution_count": 2586,
   "metadata": {},
   "outputs": [
    {
     "data": {
      "text/plain": [
       "84"
      ]
     },
     "execution_count": 2586,
     "metadata": {},
     "output_type": "execute_result"
    }
   ],
   "source": [
    "unique_14 = df_14.query(\"fuel in ['CNG','Ethanol','Electricity']\").model.nunique()\n",
    "unique_14"
   ]
  },
  {
   "cell_type": "code",
   "execution_count": 2587,
   "metadata": {},
   "outputs": [
    {
     "data": {
      "text/plain": [
       "array(['Gasoline', 'Diesel', 'CNG', 'Ethanol', 'Gas', 'Electricity'],\n",
       "      dtype=object)"
      ]
     },
     "execution_count": 2587,
     "metadata": {},
     "output_type": "execute_result"
    }
   ],
   "source": [
    "df_15[\"fuel\"].unique()"
   ]
  },
  {
   "cell_type": "code",
   "execution_count": 2588,
   "metadata": {},
   "outputs": [
    {
     "data": {
      "text/plain": [
       "72"
      ]
     },
     "execution_count": 2588,
     "metadata": {},
     "output_type": "execute_result"
    }
   ],
   "source": [
    "unique_15 = df_15.query(\"fuel in ['CNG','Ethanol','Electricity']\").model.nunique()\n",
    "unique_15"
   ]
  },
  {
   "cell_type": "code",
   "execution_count": 2589,
   "metadata": {},
   "outputs": [
    {
     "data": {
      "text/plain": [
       "array(['Gasoline', 'Diesel', 'Ethanol', 'Electricity', 'Gas'],\n",
       "      dtype=object)"
      ]
     },
     "execution_count": 2589,
     "metadata": {},
     "output_type": "execute_result"
    }
   ],
   "source": [
    "df_16[\"fuel\"].unique()"
   ]
  },
  {
   "cell_type": "code",
   "execution_count": 2590,
   "metadata": {},
   "outputs": [
    {
     "data": {
      "text/plain": [
       "57"
      ]
     },
     "execution_count": 2590,
     "metadata": {},
     "output_type": "execute_result"
    }
   ],
   "source": [
    "unique_16 = df_16.query(\"fuel in ['Ethanol','Electricity']\").model.nunique()\n",
    "unique_16"
   ]
  },
  {
   "cell_type": "code",
   "execution_count": 2591,
   "metadata": {},
   "outputs": [
    {
     "data": {
      "text/plain": [
       "array(['Gasoline', 'Diesel', 'Ethanol', 'Electricity', 'Gas'],\n",
       "      dtype=object)"
      ]
     },
     "execution_count": 2591,
     "metadata": {},
     "output_type": "execute_result"
    }
   ],
   "source": [
    "df_17[\"fuel\"].unique()"
   ]
  },
  {
   "cell_type": "code",
   "execution_count": 2592,
   "metadata": {},
   "outputs": [
    {
     "data": {
      "text/plain": [
       "53"
      ]
     },
     "execution_count": 2592,
     "metadata": {},
     "output_type": "execute_result"
    }
   ],
   "source": [
    "unique_17 = df_17.query(\"fuel in ['Ethanol','Electricity']\").model.nunique()\n",
    "unique_17"
   ]
  },
  {
   "cell_type": "code",
   "execution_count": 2593,
   "metadata": {},
   "outputs": [
    {
     "data": {
      "text/plain": [
       "array(['Gasoline', 'Diesel', 'Ethanol', 'Electricity', 'Gas'],\n",
       "      dtype=object)"
      ]
     },
     "execution_count": 2593,
     "metadata": {},
     "output_type": "execute_result"
    }
   ],
   "source": [
    "df_18[\"fuel\"].unique()"
   ]
  },
  {
   "cell_type": "code",
   "execution_count": 2594,
   "metadata": {},
   "outputs": [
    {
     "data": {
      "text/plain": [
       "60"
      ]
     },
     "execution_count": 2594,
     "metadata": {},
     "output_type": "execute_result"
    }
   ],
   "source": [
    "unique_18= df_18.query(\"fuel in ['Ethanol','Electricity']\").model.nunique()\n",
    "unique_18"
   ]
  },
  {
   "cell_type": "code",
   "execution_count": 2595,
   "metadata": {},
   "outputs": [],
   "source": [
    "#now lets plot these values"
   ]
  },
  {
   "cell_type": "code",
   "execution_count": 2596,
   "metadata": {},
   "outputs": [
    {
     "data": {
      "text/plain": [
       "Text(0, 0.5, 'No of models using alternative fuel')"
      ]
     },
     "execution_count": 2596,
     "metadata": {},
     "output_type": "execute_result"
    },
    {
     "data": {
      "image/png": "[encoded data removed]",
      "text/plain": [
       "<Figure size 720x432 with 1 Axes>"
      ]
     },
     "metadata": {
      "needs_background": "light"
     },
     "output_type": "display_data"
    }
   ],
   "source": [
    "plt.figure(figsize=(10,6))\n",
    "plt.bar([\"2008\", \"2009\",\"2010\",\"2011\",\"2012\",\"2013\",\"2014\",\"2015\",\"2016\",\"2017\",\"2018\"],[Unique_8,unique_9,unique_10,unique_11,unique_12,unique_13,unique_14,unique_15,unique_16,unique_17,unique_18])\n",
    "plt.title(\"Unique models using alternative fuel from 2008 - 2018\")\n",
    "plt.xlabel(\"Year\")\n",
    "plt.ylabel(\"No of models using alternative fuel\")"
   ]
  },
  {
   "cell_type": "code",
   "execution_count": null,
   "metadata": {},
   "outputs": [],
   "source": []
  },
  {
   "cell_type": "markdown",
   "metadata": {},
   "source": [
    "### Problem 2  : How much have vehicle classes improved in fuel economy (increased in mpg) per year?"
   ]
  },
  {
   "cell_type": "code",
   "execution_count": 2597,
   "metadata": {},
   "outputs": [],
   "source": [
    "#lets group the veh_class column by mean value of combined milage"
   ]
  },
  {
   "cell_type": "code",
   "execution_count": 2598,
   "metadata": {},
   "outputs": [
    {
     "data": {
      "text/plain": [
       "veh_class\n",
       "SUV              17.971037\n",
       "large car        18.323308\n",
       "midsize car      21.370504\n",
       "minivan          18.666667\n",
       "pickup           16.194346\n",
       "small car        21.046043\n",
       "station wagon    22.349593\n",
       "van              14.206897\n",
       "Name: cmb_mpg, dtype: float64"
      ]
     },
     "execution_count": 2598,
     "metadata": {},
     "output_type": "execute_result"
    }
   ],
   "source": [
    "Vechicle_class_8 = df_8.groupby('veh_class').cmb_mpg.mean()\n",
    "Vechicle_class_8"
   ]
  },
  {
   "cell_type": "code",
   "execution_count": 2599,
   "metadata": {},
   "outputs": [
    {
     "data": {
      "text/plain": [
       "veh_class\n",
       "SUV              18.126565\n",
       "large car        18.461538\n",
       "midsize car      21.851301\n",
       "minivan          19.000000\n",
       "pickup           16.245675\n",
       "small car        21.557055\n",
       "station wagon    22.908046\n",
       "van              14.129032\n",
       "Name: cmb_mpg, dtype: float64"
      ]
     },
     "execution_count": 2599,
     "metadata": {},
     "output_type": "execute_result"
    }
   ],
   "source": [
    "Vechicle_class_9 = df_9.groupby('veh_class').cmb_mpg.mean()\n",
    "Vechicle_class_9"
   ]
  },
  {
   "cell_type": "code",
   "execution_count": 2600,
   "metadata": {},
   "outputs": [
    {
     "data": {
      "text/plain": [
       "veh_class\n",
       "SUV                19.098305\n",
       "large car          18.296296\n",
       "midsize car        22.154639\n",
       "minivan            18.666667\n",
       "pickup             16.322222\n",
       "small car          22.204106\n",
       "special purpose    23.000000\n",
       "station wagon      23.962733\n",
       "van                13.208333\n",
       "Name: cmb_mpg, dtype: float64"
      ]
     },
     "execution_count": 2600,
     "metadata": {},
     "output_type": "execute_result"
    }
   ],
   "source": [
    "Vechicle_class_10 = df_10.groupby('veh_class').cmb_mpg.mean()\n",
    "Vechicle_class_10"
   ]
  },
  {
   "cell_type": "code",
   "execution_count": 2601,
   "metadata": {},
   "outputs": [
    {
     "data": {
      "text/plain": [
       "veh_class\n",
       "SUV                19.313559\n",
       "large car          19.070922\n",
       "midsize car        23.225926\n",
       "minivan            19.720000\n",
       "pickup             16.513966\n",
       "small car          22.626359\n",
       "special purpose    16.333333\n",
       "station wagon      24.347826\n",
       "van                12.064516\n",
       "Name: cmb_mpg, dtype: float64"
      ]
     },
     "execution_count": 2601,
     "metadata": {},
     "output_type": "execute_result"
    }
   ],
   "source": [
    "Vechicle_class_11 = df_11.groupby('veh_class').cmb_mpg.mean()\n",
    "Vechicle_class_11"
   ]
  },
  {
   "cell_type": "code",
   "execution_count": 2602,
   "metadata": {},
   "outputs": [
    {
     "data": {
      "text/plain": [
       "veh_class\n",
       "SUV                19.278481\n",
       "large car          18.880503\n",
       "midsize car        24.494774\n",
       "minivan            19.947368\n",
       "pickup             16.289157\n",
       "small car          23.298387\n",
       "special purpose    17.600000\n",
       "station wagon      24.871212\n",
       "van                11.951613\n",
       "Name: cmb_mpg, dtype: float64"
      ]
     },
     "execution_count": 2602,
     "metadata": {},
     "output_type": "execute_result"
    }
   ],
   "source": [
    "Vechicle_class_12 = df_12.groupby('veh_class').cmb_mpg.mean()\n",
    "Vechicle_class_12"
   ]
  },
  {
   "cell_type": "code",
   "execution_count": 2603,
   "metadata": {},
   "outputs": [
    {
     "data": {
      "text/plain": [
       "veh_class\n",
       "large car          20.000000\n",
       "midsize car        26.214286\n",
       "minivan            20.080000\n",
       "pickup             15.975155\n",
       "small SUV          22.176638\n",
       "small car          24.036585\n",
       "special purpose    19.111111\n",
       "standard SUV       16.327731\n",
       "station wagon      25.451923\n",
       "van                12.483333\n",
       "Name: cmb_mpg, dtype: float64"
      ]
     },
     "execution_count": 2603,
     "metadata": {},
     "output_type": "execute_result"
    }
   ],
   "source": [
    "Vechicle_class_13 = df_13.groupby('veh_class').cmb_mpg.mean()\n",
    "Vechicle_class_13"
   ]
  },
  {
   "cell_type": "code",
   "execution_count": 2604,
   "metadata": {},
   "outputs": [
    {
     "data": {
      "text/plain": [
       "veh_class\n",
       "large car          20.888889\n",
       "midsize car        26.952809\n",
       "minivan            20.040000\n",
       "pickup             16.851240\n",
       "small SUV          22.389535\n",
       "small car          24.985976\n",
       "special purpose    21.631579\n",
       "standard SUV       16.784091\n",
       "station wagon      25.146341\n",
       "van                12.224138\n",
       "Name: cmb_mpg, dtype: float64"
      ]
     },
     "execution_count": 2604,
     "metadata": {},
     "output_type": "execute_result"
    }
   ],
   "source": [
    "Vechicle_class_14 = df_14.groupby('veh_class').cmb_mpg.mean()\n",
    "Vechicle_class_14"
   ]
  },
  {
   "cell_type": "code",
   "execution_count": 2605,
   "metadata": {},
   "outputs": [
    {
     "data": {
      "text/plain": [
       "veh_class\n",
       "large car          21.360360\n",
       "midsize car        26.876812\n",
       "minivan            20.040000\n",
       "pickup             17.939130\n",
       "small SUV          23.189702\n",
       "small car          25.144778\n",
       "special purpose    19.555556\n",
       "standard SUV       18.118143\n",
       "station wagon      27.160920\n",
       "van                11.920000\n",
       "Name: cmb_mpg, dtype: float64"
      ]
     },
     "execution_count": 2605,
     "metadata": {},
     "output_type": "execute_result"
    }
   ],
   "source": [
    "Vechicle_class_15 = df_15.groupby('veh_class').cmb_mpg.mean()\n",
    "Vechicle_class_15"
   ]
  },
  {
   "cell_type": "code",
   "execution_count": 2606,
   "metadata": {},
   "outputs": [
    {
     "data": {
      "text/plain": [
       "veh_class\n",
       "large car          21.887387\n",
       "midsize car        27.520971\n",
       "minivan            19.461538\n",
       "pickup             18.085000\n",
       "small SUV          23.529833\n",
       "small car          25.765510\n",
       "special purpose    20.634146\n",
       "standard SUV       19.303249\n",
       "station wagon      27.319149\n",
       "van                13.285714\n",
       "Name: cmb_mpg, dtype: float64"
      ]
     },
     "execution_count": 2606,
     "metadata": {},
     "output_type": "execute_result"
    }
   ],
   "source": [
    "Vechicle_class_16 = df_16.groupby('veh_class').cmb_mpg.mean()\n",
    "Vechicle_class_16"
   ]
  },
  {
   "cell_type": "code",
   "execution_count": 2607,
   "metadata": {},
   "outputs": [
    {
     "data": {
      "text/plain": [
       "veh_class\n",
       "large car          23.105691\n",
       "midsize car        29.142518\n",
       "minivan            25.714286\n",
       "pickup             17.995536\n",
       "small SUV          23.213457\n",
       "small car          25.348917\n",
       "special purpose    19.894737\n",
       "standard SUV       19.162630\n",
       "station wagon      28.734513\n",
       "van                13.285714\n",
       "Name: cmb_mpg, dtype: float64"
      ]
     },
     "execution_count": 2607,
     "metadata": {},
     "output_type": "execute_result"
    }
   ],
   "source": [
    "Vechicle_class_17 = df_17.groupby('veh_class').cmb_mpg.mean()\n",
    "Vechicle_class_17"
   ]
  },
  {
   "cell_type": "code",
   "execution_count": 2608,
   "metadata": {},
   "outputs": [
    {
     "data": {
      "text/plain": [
       "veh_class\n",
       "large car          24.337838\n",
       "midsize car        30.191874\n",
       "minivan            26.384615\n",
       "pickup             18.200000\n",
       "small SUV          24.224066\n",
       "small car          25.570930\n",
       "special purpose    19.800000\n",
       "standard SUV       19.341060\n",
       "station wagon      29.982143\n",
       "van                15.166667\n",
       "Name: cmb_mpg, dtype: float64"
      ]
     },
     "execution_count": 2608,
     "metadata": {},
     "output_type": "execute_result"
    }
   ],
   "source": [
    "Vechicle_class_18 = df_18.groupby('veh_class').cmb_mpg.mean()\n",
    "Vechicle_class_18"
   ]
  },
  {
   "cell_type": "code",
   "execution_count": 2609,
   "metadata": {},
   "outputs": [],
   "source": [
    "# we can compare the difference between vehicle class improved from 2008 to 2018"
   ]
  },
  {
   "cell_type": "code",
   "execution_count": 2610,
   "metadata": {},
   "outputs": [
    {
     "data": {
      "text/plain": [
       "veh_class\n",
       "SUV                     NaN\n",
       "large car          6.014530\n",
       "midsize car        8.821370\n",
       "minivan            7.717949\n",
       "pickup             2.005654\n",
       "small SUV               NaN\n",
       "small car          4.524887\n",
       "special purpose         NaN\n",
       "standard SUV            NaN\n",
       "station wagon      7.632549\n",
       "van                0.959770\n",
       "Name: cmb_mpg, dtype: float64"
      ]
     },
     "execution_count": 2610,
     "metadata": {},
     "output_type": "execute_result"
    }
   ],
   "source": [
    "Difference = Vechicle_class_18 - Vechicle_class_8\n",
    "Difference"
   ]
  },
  {
   "cell_type": "code",
   "execution_count": 2611,
   "metadata": {},
   "outputs": [],
   "source": [
    "#Lets remove the nan values and plot it in the graph"
   ]
  },
  {
   "cell_type": "code",
   "execution_count": 2612,
   "metadata": {},
   "outputs": [],
   "source": [
    "Difference.dropna(inplace=True)"
   ]
  },
  {
   "cell_type": "code",
   "execution_count": 2613,
   "metadata": {},
   "outputs": [
    {
     "data": {
      "text/plain": [
       "Text(0, 0.5, 'Values increased')"
      ]
     },
     "execution_count": 2613,
     "metadata": {},
     "output_type": "execute_result"
    },
    {
     "data": {
      "image/png": "[encoded data removed]",
      "text/plain": [
       "<Figure size 720x360 with 1 Axes>"
      ]
     },
     "metadata": {
      "needs_background": "light"
     },
     "output_type": "display_data"
    }
   ],
   "source": [
    "plt.figure(figsize=(10,5))\n",
    "\n",
    "plt.bar(Difference.index , Difference.values)\n",
    "\n",
    "plt.title(\"Increase in class by each model by combined milage\")\n",
    "plt.xlabel(\"Vehicle model\")\n",
    "plt.ylabel(\"Values increased\")"
   ]
  },
  {
   "cell_type": "markdown",
   "metadata": {},
   "source": [
    "### Problem 2 : What are the characteristics of SmartWay vehicles? Have they changed over time? (mpg, greenhouse gas)"
   ]
  },
  {
   "cell_type": "code",
   "execution_count": 2614,
   "metadata": {},
   "outputs": [],
   "source": [
    "#lets find the smartway vehicles milage and greenhouse gas score average value"
   ]
  },
  {
   "cell_type": "code",
   "execution_count": 2615,
   "metadata": {},
   "outputs": [],
   "source": [
    "smartway_8 = df_8[df_8[\"smartway\"] == \"yes\"][[\"cmb_mpg\",\"greenhouse_gas_score\"]].mean()"
   ]
  },
  {
   "cell_type": "code",
   "execution_count": 2616,
   "metadata": {},
   "outputs": [],
   "source": [
    "smartway_9 = df_9[df_9[\"smartway\"] == \"yes\"][[\"cmb_mpg\",\"greenhouse_gas_score\"]].mean()"
   ]
  },
  {
   "cell_type": "code",
   "execution_count": 2617,
   "metadata": {},
   "outputs": [],
   "source": [
    "smartway_10 = df_10[df_10[\"smartway\"] == \"yes\"][[\"cmb_mpg\",\"greenhouse_gas_score\"]].mean()"
   ]
  },
  {
   "cell_type": "code",
   "execution_count": 2618,
   "metadata": {},
   "outputs": [],
   "source": [
    "smartway_11 = df_11[df_11[\"smartway\"] == \"yes\"][[\"cmb_mpg\",\"greenhouse_gas_score\"]].mean()"
   ]
  },
  {
   "cell_type": "code",
   "execution_count": 2619,
   "metadata": {},
   "outputs": [],
   "source": [
    "smartway_12 = df_12.query(\"smartway in ['yes','Elite']\")[[\"cmb_mpg\",\"greenhouse_gas_score\"]].mean()"
   ]
  },
  {
   "cell_type": "code",
   "execution_count": 2620,
   "metadata": {},
   "outputs": [],
   "source": [
    "smartway_13 = df_13.query(\"smartway in ['yes','Elite']\")[[\"cmb_mpg\",\"greenhouse_gas_score\"]].mean()"
   ]
  },
  {
   "cell_type": "code",
   "execution_count": 2621,
   "metadata": {},
   "outputs": [],
   "source": [
    "smartway_14 = df_14.query(\"smartway in ['yes','Elite']\")[[\"cmb_mpg\",\"greenhouse_gas_score\"]].mean()"
   ]
  },
  {
   "cell_type": "code",
   "execution_count": 2622,
   "metadata": {},
   "outputs": [],
   "source": [
    "smartway_15 = df_15.query(\"smartway in ['yes','Elite']\")[[\"cmb_mpg\",\"greenhouse_gas_score\"]].mean()"
   ]
  },
  {
   "cell_type": "code",
   "execution_count": 2623,
   "metadata": {},
   "outputs": [],
   "source": [
    "smartway_16 = df_16.query(\"smartway in ['yes','Elite']\")[[\"cmb_mpg\",\"greenhouse_gas_score\"]].mean()"
   ]
  },
  {
   "cell_type": "code",
   "execution_count": 2624,
   "metadata": {},
   "outputs": [],
   "source": [
    "smartway_17 = df_17.query(\"smartway in ['yes','Elite']\")[[\"cmb_mpg\",\"greenhouse_gas_score\"]].mean()"
   ]
  },
  {
   "cell_type": "code",
   "execution_count": 2625,
   "metadata": {},
   "outputs": [],
   "source": [
    "smartway_18 = df_18.query(\"smartway in ['yes','Elite']\")[[\"cmb_mpg\",\"greenhouse_gas_score\"]].mean()"
   ]
  },
  {
   "cell_type": "code",
   "execution_count": 2626,
   "metadata": {},
   "outputs": [],
   "source": [
    "smartway_difference = smartway_18 - smartway_8"
   ]
  },
  {
   "cell_type": "code",
   "execution_count": 2627,
   "metadata": {},
   "outputs": [],
   "source": [
    "#lets plot the difference values"
   ]
  },
  {
   "cell_type": "code",
   "execution_count": 2628,
   "metadata": {},
   "outputs": [
    {
     "data": {
      "text/plain": [
       "Text(0, 0.5, 'values that increased from 2008-2018')"
      ]
     },
     "execution_count": 2628,
     "metadata": {},
     "output_type": "execute_result"
    },
    {
     "data": {
      "image/png": "[encoded data removed]",
      "text/plain": [
       "<Figure size 432x288 with 1 Axes>"
      ]
     },
     "metadata": {
      "needs_background": "light"
     },
     "output_type": "display_data"
    }
   ],
   "source": [
    "\n",
    "\n",
    "plt.bar(smartway_difference.index , smartway_difference.values)\n",
    "\n",
    "plt.title(\"characterstic of smartway vehicle changed from 2008 - 2018\")\n",
    "plt.xlabel(\"Features\")\n",
    "plt.ylabel(\"values that increased from 2008-2018\")"
   ]
  },
  {
   "cell_type": "markdown",
   "metadata": {},
   "source": [
    "###### The above features are best associated with milage mpg"
   ]
  },
  {
   "cell_type": "markdown",
   "metadata": {},
   "source": [
    "### Problem 3 : Merge all the dataset into single dataframe"
   ]
  },
  {
   "cell_type": "code",
   "execution_count": 2629,
   "metadata": {},
   "outputs": [],
   "source": [
    "frames = [df_8,df_9,df_10,df_11,df_12,df_13,df_14,df_15,df_16,df_17,df_18]"
   ]
  },
  {
   "cell_type": "code",
   "execution_count": 2630,
   "metadata": {},
   "outputs": [],
   "source": [
    "merged_df = pd.concat(frames, keys=['2008','2009','2010','2011','2012','2013','2014','2015','2016','2017','2018'])"
   ]
  },
  {
   "cell_type": "code",
   "execution_count": 2631,
   "metadata": {},
   "outputs": [
    {
     "data": {
      "text/plain": [
       "(26960, 14)"
      ]
     },
     "execution_count": 2631,
     "metadata": {},
     "output_type": "execute_result"
    }
   ],
   "source": [
    "merged_df.shape"
   ]
  },
  {
   "cell_type": "code",
   "execution_count": 2632,
   "metadata": {},
   "outputs": [
    {
     "data": {
      "text/plain": [
       "model                    object\n",
       "displ                   float64\n",
       "cyl                     float64\n",
       "trans                    object\n",
       "drive                     int32\n",
       "fuel                     object\n",
       "sales_area               object\n",
       "veh_class                object\n",
       "air_pollution_score     float64\n",
       "city_mpg                  int32\n",
       "hwy_mpg                   int32\n",
       "cmb_mpg                   int32\n",
       "greenhouse_gas_score    float64\n",
       "smartway                 object\n",
       "dtype: object"
      ]
     },
     "execution_count": 2632,
     "metadata": {},
     "output_type": "execute_result"
    }
   ],
   "source": [
    "merged_df.dtypes"
   ]
  },
  {
   "cell_type": "markdown",
   "metadata": {},
   "source": []
  },
  {
   "cell_type": "code",
   "execution_count": 2633,
   "metadata": {},
   "outputs": [],
   "source": [
    "merged_df_copy = merged_df.copy()"
   ]
  },
  {
   "cell_type": "code",
   "execution_count": 2634,
   "metadata": {},
   "outputs": [],
   "source": [
    "#Lets create features to apply machine learning algorithms\n",
    "#drop unnessacary columns\n",
    "#labelencode categorical values"
   ]
  },
  {
   "cell_type": "code",
   "execution_count": 2635,
   "metadata": {},
   "outputs": [
    {
     "data": {
      "text/plain": [
       "array([3, 4, 0, 2, 1])"
      ]
     },
     "execution_count": 2635,
     "metadata": {},
     "output_type": "execute_result"
    }
   ],
   "source": [
    "#smartway column is categorical. hence we can change to numerical by using labelencoder\n",
    "\n",
    "label_encoder = preprocessing.LabelEncoder()\n",
    "\n",
    "merged_df['smartway'] = label_encoder.fit_transform(merged_df['smartway'])\n",
    "merged_df['smartway'].unique()"
   ]
  },
  {
   "cell_type": "code",
   "execution_count": 2636,
   "metadata": {},
   "outputs": [
    {
     "data": {
      "text/plain": [
       "array([ 0,  2,  6,  9,  1,  3,  4, 10,  7,  5,  8])"
      ]
     },
     "execution_count": 2636,
     "metadata": {},
     "output_type": "execute_result"
    }
   ],
   "source": [
    "#veh_class is categorical. hence we can change to numerical by using labelencoder\n",
    "\n",
    "merged_df[\"veh_class\"] = label_encoder.fit_transform(merged_df[\"veh_class\"] )\n",
    "merged_df[\"veh_class\"].unique()"
   ]
  },
  {
   "cell_type": "code",
   "execution_count": 2637,
   "metadata": {},
   "outputs": [
    {
     "data": {
      "text/plain": [
       "array([5, 7, 0, 6, 8, 3, 4, 1, 2])"
      ]
     },
     "execution_count": 2637,
     "metadata": {},
     "output_type": "execute_result"
    }
   ],
   "source": [
    "#Fuel is categorical. hence we can change to numerical by using labelencoder\n",
    "\n",
    "merged_df[\"fuel\"] = label_encoder.fit_transform(merged_df[\"fuel\"] )\n",
    "merged_df[\"fuel\"].unique()"
   ]
  },
  {
   "cell_type": "code",
   "execution_count": 2638,
   "metadata": {},
   "outputs": [],
   "source": [
    "# we dont need transmission and sales area details. so we can drop it\n",
    "\n",
    "merged_df = merged_df.drop(columns=[\"trans\",\"sales_area\"])"
   ]
  },
  {
   "cell_type": "code",
   "execution_count": 2639,
   "metadata": {},
   "outputs": [
    {
     "data": {
      "text/plain": [
       "model                    object\n",
       "displ                   float64\n",
       "cyl                     float64\n",
       "drive                     int32\n",
       "fuel                      int32\n",
       "veh_class                 int32\n",
       "air_pollution_score     float64\n",
       "city_mpg                  int32\n",
       "hwy_mpg                   int32\n",
       "cmb_mpg                   int32\n",
       "greenhouse_gas_score    float64\n",
       "smartway                  int32\n",
       "dtype: object"
      ]
     },
     "execution_count": 2639,
     "metadata": {},
     "output_type": "execute_result"
    }
   ],
   "source": [
    "merged_df.dtypes"
   ]
  },
  {
   "cell_type": "code",
   "execution_count": 2640,
   "metadata": {},
   "outputs": [
    {
     "data": {
      "text/html": [
       "<div>\n",
       "<style scoped>\n",
       "    .dataframe tbody tr th:only-of-type {\n",
       "        vertical-align: middle;\n",
       "    }\n",
       "\n",
       "    .dataframe tbody tr th {\n",
       "        vertical-align: top;\n",
       "    }\n",
       "\n",
       "    .dataframe thead th {\n",
       "        text-align: right;\n",
       "    }\n",
       "</style>\n",
       "<table border=\"1\" class=\"dataframe\">\n",
       "  <thead>\n",
       "    <tr style=\"text-align: right;\">\n",
       "      <th></th>\n",
       "      <th></th>\n",
       "      <th>model</th>\n",
       "      <th>displ</th>\n",
       "      <th>cyl</th>\n",
       "      <th>drive</th>\n",
       "      <th>fuel</th>\n",
       "      <th>veh_class</th>\n",
       "      <th>air_pollution_score</th>\n",
       "      <th>city_mpg</th>\n",
       "      <th>hwy_mpg</th>\n",
       "      <th>cmb_mpg</th>\n",
       "      <th>greenhouse_gas_score</th>\n",
       "      <th>smartway</th>\n",
       "    </tr>\n",
       "  </thead>\n",
       "  <tbody>\n",
       "    <tr>\n",
       "      <th rowspan=\"5\" valign=\"top\">2008</th>\n",
       "      <th>0</th>\n",
       "      <td>ACURA MDX</td>\n",
       "      <td>3.7</td>\n",
       "      <td>6.0</td>\n",
       "      <td>4</td>\n",
       "      <td>5</td>\n",
       "      <td>0</td>\n",
       "      <td>7.0</td>\n",
       "      <td>15</td>\n",
       "      <td>20</td>\n",
       "      <td>17</td>\n",
       "      <td>4.0</td>\n",
       "      <td>3</td>\n",
       "    </tr>\n",
       "    <tr>\n",
       "      <th>1</th>\n",
       "      <td>ACURA MDX</td>\n",
       "      <td>3.7</td>\n",
       "      <td>6.0</td>\n",
       "      <td>4</td>\n",
       "      <td>5</td>\n",
       "      <td>0</td>\n",
       "      <td>6.0</td>\n",
       "      <td>15</td>\n",
       "      <td>20</td>\n",
       "      <td>17</td>\n",
       "      <td>4.0</td>\n",
       "      <td>3</td>\n",
       "    </tr>\n",
       "    <tr>\n",
       "      <th>2</th>\n",
       "      <td>ACURA RDX</td>\n",
       "      <td>2.3</td>\n",
       "      <td>4.0</td>\n",
       "      <td>4</td>\n",
       "      <td>5</td>\n",
       "      <td>0</td>\n",
       "      <td>7.0</td>\n",
       "      <td>17</td>\n",
       "      <td>22</td>\n",
       "      <td>19</td>\n",
       "      <td>5.0</td>\n",
       "      <td>3</td>\n",
       "    </tr>\n",
       "    <tr>\n",
       "      <th>3</th>\n",
       "      <td>ACURA RDX</td>\n",
       "      <td>2.3</td>\n",
       "      <td>4.0</td>\n",
       "      <td>4</td>\n",
       "      <td>5</td>\n",
       "      <td>0</td>\n",
       "      <td>6.0</td>\n",
       "      <td>17</td>\n",
       "      <td>22</td>\n",
       "      <td>19</td>\n",
       "      <td>5.0</td>\n",
       "      <td>3</td>\n",
       "    </tr>\n",
       "    <tr>\n",
       "      <th>4</th>\n",
       "      <td>ACURA RL</td>\n",
       "      <td>3.5</td>\n",
       "      <td>6.0</td>\n",
       "      <td>4</td>\n",
       "      <td>5</td>\n",
       "      <td>2</td>\n",
       "      <td>7.0</td>\n",
       "      <td>16</td>\n",
       "      <td>24</td>\n",
       "      <td>19</td>\n",
       "      <td>5.0</td>\n",
       "      <td>3</td>\n",
       "    </tr>\n",
       "    <tr>\n",
       "      <th>...</th>\n",
       "      <th>...</th>\n",
       "      <td>...</td>\n",
       "      <td>...</td>\n",
       "      <td>...</td>\n",
       "      <td>...</td>\n",
       "      <td>...</td>\n",
       "      <td>...</td>\n",
       "      <td>...</td>\n",
       "      <td>...</td>\n",
       "      <td>...</td>\n",
       "      <td>...</td>\n",
       "      <td>...</td>\n",
       "      <td>...</td>\n",
       "    </tr>\n",
       "    <tr>\n",
       "      <th rowspan=\"5\" valign=\"top\">2018</th>\n",
       "      <th>2822</th>\n",
       "      <td>VOLVO S90</td>\n",
       "      <td>2.0</td>\n",
       "      <td>4.0</td>\n",
       "      <td>4</td>\n",
       "      <td>2</td>\n",
       "      <td>2</td>\n",
       "      <td>7.0</td>\n",
       "      <td>70</td>\n",
       "      <td>72</td>\n",
       "      <td>71</td>\n",
       "      <td>10.0</td>\n",
       "      <td>0</td>\n",
       "    </tr>\n",
       "    <tr>\n",
       "      <th>2823</th>\n",
       "      <td>VOLVO XC60</td>\n",
       "      <td>2.0</td>\n",
       "      <td>4.0</td>\n",
       "      <td>4</td>\n",
       "      <td>2</td>\n",
       "      <td>5</td>\n",
       "      <td>7.0</td>\n",
       "      <td>60</td>\n",
       "      <td>58</td>\n",
       "      <td>59</td>\n",
       "      <td>10.0</td>\n",
       "      <td>0</td>\n",
       "    </tr>\n",
       "    <tr>\n",
       "      <th>2824</th>\n",
       "      <td>VOLVO XC60</td>\n",
       "      <td>2.0</td>\n",
       "      <td>4.0</td>\n",
       "      <td>4</td>\n",
       "      <td>2</td>\n",
       "      <td>5</td>\n",
       "      <td>7.0</td>\n",
       "      <td>60</td>\n",
       "      <td>58</td>\n",
       "      <td>59</td>\n",
       "      <td>10.0</td>\n",
       "      <td>0</td>\n",
       "    </tr>\n",
       "    <tr>\n",
       "      <th>2825</th>\n",
       "      <td>VOLVO XC90</td>\n",
       "      <td>2.0</td>\n",
       "      <td>4.0</td>\n",
       "      <td>4</td>\n",
       "      <td>2</td>\n",
       "      <td>8</td>\n",
       "      <td>7.0</td>\n",
       "      <td>63</td>\n",
       "      <td>61</td>\n",
       "      <td>62</td>\n",
       "      <td>10.0</td>\n",
       "      <td>0</td>\n",
       "    </tr>\n",
       "    <tr>\n",
       "      <th>2826</th>\n",
       "      <td>VOLVO XC90</td>\n",
       "      <td>2.0</td>\n",
       "      <td>4.0</td>\n",
       "      <td>4</td>\n",
       "      <td>2</td>\n",
       "      <td>8</td>\n",
       "      <td>7.0</td>\n",
       "      <td>63</td>\n",
       "      <td>61</td>\n",
       "      <td>62</td>\n",
       "      <td>10.0</td>\n",
       "      <td>0</td>\n",
       "    </tr>\n",
       "  </tbody>\n",
       "</table>\n",
       "<p>26960 rows × 12 columns</p>\n",
       "</div>"
      ],
      "text/plain": [
       "                model  displ  cyl  drive  fuel  veh_class  \\\n",
       "2008 0      ACURA MDX    3.7  6.0      4     5          0   \n",
       "     1      ACURA MDX    3.7  6.0      4     5          0   \n",
       "     2      ACURA RDX    2.3  4.0      4     5          0   \n",
       "     3      ACURA RDX    2.3  4.0      4     5          0   \n",
       "     4       ACURA RL    3.5  6.0      4     5          2   \n",
       "...               ...    ...  ...    ...   ...        ...   \n",
       "2018 2822   VOLVO S90    2.0  4.0      4     2          2   \n",
       "     2823  VOLVO XC60    2.0  4.0      4     2          5   \n",
       "     2824  VOLVO XC60    2.0  4.0      4     2          5   \n",
       "     2825  VOLVO XC90    2.0  4.0      4     2          8   \n",
       "     2826  VOLVO XC90    2.0  4.0      4     2          8   \n",
       "\n",
       "           air_pollution_score  city_mpg  hwy_mpg  cmb_mpg  \\\n",
       "2008 0                     7.0        15       20       17   \n",
       "     1                     6.0        15       20       17   \n",
       "     2                     7.0        17       22       19   \n",
       "     3                     6.0        17       22       19   \n",
       "     4                     7.0        16       24       19   \n",
       "...                        ...       ...      ...      ...   \n",
       "2018 2822                  7.0        70       72       71   \n",
       "     2823                  7.0        60       58       59   \n",
       "     2824                  7.0        60       58       59   \n",
       "     2825                  7.0        63       61       62   \n",
       "     2826                  7.0        63       61       62   \n",
       "\n",
       "           greenhouse_gas_score  smartway  \n",
       "2008 0                      4.0         3  \n",
       "     1                      4.0         3  \n",
       "     2                      5.0         3  \n",
       "     3                      5.0         3  \n",
       "     4                      5.0         3  \n",
       "...                         ...       ...  \n",
       "2018 2822                  10.0         0  \n",
       "     2823                  10.0         0  \n",
       "     2824                  10.0         0  \n",
       "     2825                  10.0         0  \n",
       "     2826                  10.0         0  \n",
       "\n",
       "[26960 rows x 12 columns]"
      ]
     },
     "execution_count": 2640,
     "metadata": {},
     "output_type": "execute_result"
    }
   ],
   "source": [
    "merged_df "
   ]
  },
  {
   "cell_type": "code",
   "execution_count": 2641,
   "metadata": {},
   "outputs": [],
   "source": [
    "# dropping NAN values\n",
    "\n",
    "merged_df = merged_df.dropna()"
   ]
  },
  {
   "cell_type": "code",
   "execution_count": 2642,
   "metadata": {},
   "outputs": [],
   "source": [
    "# dropping index column for better perfomance of algorithms\n",
    "\n",
    "merged_df = merged_df.reset_index(drop=True)"
   ]
  },
  {
   "cell_type": "code",
   "execution_count": null,
   "metadata": {},
   "outputs": [],
   "source": []
  },
  {
   "cell_type": "markdown",
   "metadata": {},
   "source": [
    "### problem 3 : create a model to predict the City Mileage per gallon(City MPG) using the best features"
   ]
  },
  {
   "cell_type": "code",
   "execution_count": 2643,
   "metadata": {},
   "outputs": [],
   "source": [
    "from sklearn.linear_model import LinearRegression\n",
    "from sklearn.model_selection import train_test_split"
   ]
  },
  {
   "cell_type": "code",
   "execution_count": 2644,
   "metadata": {},
   "outputs": [
    {
     "data": {
      "text/plain": [
       "model                    object\n",
       "displ                   float64\n",
       "cyl                     float64\n",
       "drive                     int32\n",
       "fuel                      int32\n",
       "veh_class                 int32\n",
       "air_pollution_score     float64\n",
       "city_mpg                  int32\n",
       "hwy_mpg                   int32\n",
       "cmb_mpg                   int32\n",
       "greenhouse_gas_score    float64\n",
       "smartway                  int32\n",
       "dtype: object"
      ]
     },
     "execution_count": 2644,
     "metadata": {},
     "output_type": "execute_result"
    }
   ],
   "source": [
    "merged_df.dtypes"
   ]
  },
  {
   "cell_type": "code",
   "execution_count": 2645,
   "metadata": {},
   "outputs": [],
   "source": [
    "# The features were taken by using domain knowledge\n",
    "\n",
    "x = merged_df.drop(columns=['model','city_mpg','hwy_mpg','cmb_mpg'])"
   ]
  },
  {
   "cell_type": "code",
   "execution_count": 2646,
   "metadata": {},
   "outputs": [
    {
     "data": {
      "text/html": [
       "<div>\n",
       "<style scoped>\n",
       "    .dataframe tbody tr th:only-of-type {\n",
       "        vertical-align: middle;\n",
       "    }\n",
       "\n",
       "    .dataframe tbody tr th {\n",
       "        vertical-align: top;\n",
       "    }\n",
       "\n",
       "    .dataframe thead th {\n",
       "        text-align: right;\n",
       "    }\n",
       "</style>\n",
       "<table border=\"1\" class=\"dataframe\">\n",
       "  <thead>\n",
       "    <tr style=\"text-align: right;\">\n",
       "      <th></th>\n",
       "      <th>displ</th>\n",
       "      <th>cyl</th>\n",
       "      <th>drive</th>\n",
       "      <th>fuel</th>\n",
       "      <th>veh_class</th>\n",
       "      <th>air_pollution_score</th>\n",
       "      <th>greenhouse_gas_score</th>\n",
       "      <th>smartway</th>\n",
       "    </tr>\n",
       "  </thead>\n",
       "  <tbody>\n",
       "    <tr>\n",
       "      <th>0</th>\n",
       "      <td>3.7</td>\n",
       "      <td>6.0</td>\n",
       "      <td>4</td>\n",
       "      <td>5</td>\n",
       "      <td>0</td>\n",
       "      <td>7.0</td>\n",
       "      <td>4.0</td>\n",
       "      <td>3</td>\n",
       "    </tr>\n",
       "    <tr>\n",
       "      <th>1</th>\n",
       "      <td>3.7</td>\n",
       "      <td>6.0</td>\n",
       "      <td>4</td>\n",
       "      <td>5</td>\n",
       "      <td>0</td>\n",
       "      <td>6.0</td>\n",
       "      <td>4.0</td>\n",
       "      <td>3</td>\n",
       "    </tr>\n",
       "    <tr>\n",
       "      <th>2</th>\n",
       "      <td>2.3</td>\n",
       "      <td>4.0</td>\n",
       "      <td>4</td>\n",
       "      <td>5</td>\n",
       "      <td>0</td>\n",
       "      <td>7.0</td>\n",
       "      <td>5.0</td>\n",
       "      <td>3</td>\n",
       "    </tr>\n",
       "    <tr>\n",
       "      <th>3</th>\n",
       "      <td>2.3</td>\n",
       "      <td>4.0</td>\n",
       "      <td>4</td>\n",
       "      <td>5</td>\n",
       "      <td>0</td>\n",
       "      <td>6.0</td>\n",
       "      <td>5.0</td>\n",
       "      <td>3</td>\n",
       "    </tr>\n",
       "    <tr>\n",
       "      <th>4</th>\n",
       "      <td>3.5</td>\n",
       "      <td>6.0</td>\n",
       "      <td>4</td>\n",
       "      <td>5</td>\n",
       "      <td>2</td>\n",
       "      <td>7.0</td>\n",
       "      <td>5.0</td>\n",
       "      <td>3</td>\n",
       "    </tr>\n",
       "  </tbody>\n",
       "</table>\n",
       "</div>"
      ],
      "text/plain": [
       "   displ  cyl  drive  fuel  veh_class  air_pollution_score  \\\n",
       "0    3.7  6.0      4     5          0                  7.0   \n",
       "1    3.7  6.0      4     5          0                  6.0   \n",
       "2    2.3  4.0      4     5          0                  7.0   \n",
       "3    2.3  4.0      4     5          0                  6.0   \n",
       "4    3.5  6.0      4     5          2                  7.0   \n",
       "\n",
       "   greenhouse_gas_score  smartway  \n",
       "0                   4.0         3  \n",
       "1                   4.0         3  \n",
       "2                   5.0         3  \n",
       "3                   5.0         3  \n",
       "4                   5.0         3  "
      ]
     },
     "execution_count": 2646,
     "metadata": {},
     "output_type": "execute_result"
    }
   ],
   "source": [
    "x.head()"
   ]
  },
  {
   "cell_type": "code",
   "execution_count": 2647,
   "metadata": {},
   "outputs": [],
   "source": [
    "y = merged_df[\"city_mpg\"]"
   ]
  },
  {
   "cell_type": "code",
   "execution_count": 2648,
   "metadata": {},
   "outputs": [
    {
     "data": {
      "text/plain": [
       "0    15\n",
       "1    15\n",
       "2    17\n",
       "3    17\n",
       "4    16\n",
       "Name: city_mpg, dtype: int32"
      ]
     },
     "execution_count": 2648,
     "metadata": {},
     "output_type": "execute_result"
    }
   ],
   "source": [
    "y[0:5]"
   ]
  },
  {
   "cell_type": "code",
   "execution_count": 2649,
   "metadata": {},
   "outputs": [],
   "source": [
    "x_train,x_test,y_train,y_test  = train_test_split(x,y,test_size = 0.2)"
   ]
  },
  {
   "cell_type": "code",
   "execution_count": 2650,
   "metadata": {},
   "outputs": [
    {
     "name": "stdout",
     "output_type": "stream",
     "text": [
      "x_train shape =  (21567, 8)\n",
      "x_test shape =  (5392, 8)\n",
      "y_train shape =  (21567,)\n",
      "y_test shape =  (5392,)\n"
     ]
    }
   ],
   "source": [
    "print(\"x_train shape = \" , x_train.shape)\n",
    "print(\"x_test shape = \" , x_test.shape)\n",
    "print(\"y_train shape = \" , y_train.shape)\n",
    "print(\"y_test shape = \" , y_test.shape)"
   ]
  },
  {
   "cell_type": "code",
   "execution_count": 2651,
   "metadata": {},
   "outputs": [],
   "source": [
    "lr_obj = LinearRegression()\n",
    "lr = lr_obj.fit(x_train,y_train)"
   ]
  },
  {
   "cell_type": "code",
   "execution_count": 2652,
   "metadata": {},
   "outputs": [
    {
     "name": "stdout",
     "output_type": "stream",
     "text": [
      "The coefficient is  [-0.64030123  0.42392181 -0.10078324 -1.69292265 -0.09151445  0.15358802\n",
      "  2.9804046  -0.55672141]\n",
      "The intercept is 13.822768203552705\n"
     ]
    }
   ],
   "source": [
    "print(\"The coefficient is \",lr.coef_)\n",
    "print(\"The intercept is\",lr.intercept_)"
   ]
  },
  {
   "cell_type": "code",
   "execution_count": 2653,
   "metadata": {},
   "outputs": [],
   "source": [
    "yhat = lr.predict(x_test)"
   ]
  },
  {
   "cell_type": "code",
   "execution_count": 2654,
   "metadata": {},
   "outputs": [
    {
     "data": {
      "text/plain": [
       "array([29.86445853, 16.49654481, 20.17936426, 12.77931987, 23.3003823 ])"
      ]
     },
     "execution_count": 2654,
     "metadata": {},
     "output_type": "execute_result"
    }
   ],
   "source": [
    "yhat[0:5]"
   ]
  },
  {
   "cell_type": "code",
   "execution_count": 2655,
   "metadata": {},
   "outputs": [
    {
     "data": {
      "text/plain": [
       "14072    23\n",
       "18618    12\n",
       "19507    21\n",
       "2709     14\n",
       "20854    22\n",
       "Name: city_mpg, dtype: int32"
      ]
     },
     "execution_count": 2655,
     "metadata": {},
     "output_type": "execute_result"
    }
   ],
   "source": [
    "y_test[0:5]"
   ]
  },
  {
   "cell_type": "code",
   "execution_count": 2656,
   "metadata": {},
   "outputs": [
    {
     "name": "stdout",
     "output_type": "stream",
     "text": [
      "The accuracy of the model is  0.5829473585144014\n"
     ]
    }
   ],
   "source": [
    "from sklearn.metrics import r2_score\n",
    "\n",
    "print(\"The accuracy of the model is \",r2_score(y_test,yhat))"
   ]
  },
  {
   "cell_type": "markdown",
   "metadata": {},
   "source": [
    "###### The linear regression model is performing very average as the result accuracy is 58% only.This may due to less number of data and feature selection"
   ]
  },
  {
   "cell_type": "markdown",
   "metadata": {},
   "source": [
    "### Problem 2 : What features are associated with better fuel economy (mpg)?"
   ]
  },
  {
   "cell_type": "code",
   "execution_count": 2657,
   "metadata": {},
   "outputs": [
    {
     "data": {
      "text/plain": [
       "array([0.94640878, 0.63796906, 0.04892637, 0.18798224, 0.2155185 ,\n",
       "       0.09345878, 0.9040646 , 0.35352428])"
      ]
     },
     "execution_count": 2657,
     "metadata": {},
     "output_type": "execute_result"
    }
   ],
   "source": [
    "from sklearn.feature_selection import mutual_info_regression\n",
    "\n",
    "mutual_info = mutual_info_regression(x_train,y_train)\n",
    "mutual_info"
   ]
  },
  {
   "cell_type": "code",
   "execution_count": 2658,
   "metadata": {},
   "outputs": [
    {
     "data": {
      "text/plain": [
       "<matplotlib.axes._subplots.AxesSubplot at 0x24451505408>"
      ]
     },
     "execution_count": 2658,
     "metadata": {},
     "output_type": "execute_result"
    },
    {
     "data": {
      "image/png": "[encoded data removed]",
      "text/plain": [
       "<Figure size 432x288 with 1 Axes>"
      ]
     },
     "metadata": {
      "needs_background": "light"
     },
     "output_type": "display_data"
    }
   ],
   "source": [
    "mutual_info = pd.Series(mutual_info)\n",
    "mutual_info.index = x_train.columns\n",
    "mutual_info.sort_values(ascending=False).plot.bar()"
   ]
  },
  {
   "cell_type": "markdown",
   "metadata": {},
   "source": [
    "###### Now we can see the most related features to target variables, lets take top 3 and build a model"
   ]
  },
  {
   "cell_type": "code",
   "execution_count": 2659,
   "metadata": {},
   "outputs": [],
   "source": [
    "x_1 = merged_df[[\"displ\",'greenhouse_gas_score',\"cyl\"]]\n",
    "y_1 = merged_df[\"city_mpg\"]"
   ]
  },
  {
   "cell_type": "code",
   "execution_count": 2660,
   "metadata": {},
   "outputs": [],
   "source": [
    "x_train,x_test,y_train,y_test = train_test_split(x_1,y_1,test_size=0.2)"
   ]
  },
  {
   "cell_type": "code",
   "execution_count": 2661,
   "metadata": {},
   "outputs": [
    {
     "name": "stdout",
     "output_type": "stream",
     "text": [
      "x_train shape =  (21567, 3)\n",
      "x_test shape =  (5392, 3)\n",
      "y_train shape =  (21567,)\n",
      "y_test shape =  (5392,)\n"
     ]
    }
   ],
   "source": [
    "print(\"x_train shape = \" , x_train.shape)\n",
    "print(\"x_test shape = \" , x_test.shape)\n",
    "print(\"y_train shape = \" , y_train.shape)\n",
    "print(\"y_test shape = \" , y_test.shape)"
   ]
  },
  {
   "cell_type": "code",
   "execution_count": 2662,
   "metadata": {},
   "outputs": [],
   "source": [
    "lr_obj = LinearRegression()\n",
    "lr_1 = lr_obj.fit(x_train,y_train)"
   ]
  },
  {
   "cell_type": "code",
   "execution_count": 2663,
   "metadata": {},
   "outputs": [],
   "source": [
    "yhat_1 = lr_1.predict(x_test)"
   ]
  },
  {
   "cell_type": "code",
   "execution_count": 2664,
   "metadata": {},
   "outputs": [
    {
     "name": "stdout",
     "output_type": "stream",
     "text": [
      "The accuracy of the model is  0.5238886188041532\n"
     ]
    }
   ],
   "source": [
    "print(\"The accuracy of the model is \",r2_score(y_test,yhat_1))"
   ]
  },
  {
   "cell_type": "markdown",
   "metadata": {},
   "source": [
    "###### The accuracy has not increased increased "
   ]
  },
  {
   "cell_type": "markdown",
   "metadata": {},
   "source": [
    "## Create a Predictive model to predict whether a vehicle is SmartWay vehicle or not using the Classification Algorithm(Logistic Regression)"
   ]
  },
  {
   "cell_type": "code",
   "execution_count": 2665,
   "metadata": {},
   "outputs": [],
   "source": [
    "merged_df_copy = merged_df_copy.reset_index(drop=True)"
   ]
  },
  {
   "cell_type": "code",
   "execution_count": 2666,
   "metadata": {},
   "outputs": [
    {
     "data": {
      "text/plain": [
       "model                    object\n",
       "displ                   float64\n",
       "cyl                     float64\n",
       "trans                    object\n",
       "drive                     int32\n",
       "fuel                     object\n",
       "sales_area               object\n",
       "veh_class                object\n",
       "air_pollution_score     float64\n",
       "city_mpg                  int32\n",
       "hwy_mpg                   int32\n",
       "cmb_mpg                   int32\n",
       "greenhouse_gas_score    float64\n",
       "smartway                 object\n",
       "dtype: object"
      ]
     },
     "execution_count": 2666,
     "metadata": {},
     "output_type": "execute_result"
    }
   ],
   "source": [
    "merged_df_copy.dtypes"
   ]
  },
  {
   "cell_type": "code",
   "execution_count": 2667,
   "metadata": {},
   "outputs": [],
   "source": [
    "merged_df_copy.drop(columns=['model','trans','sales_area'], inplace=True)"
   ]
  },
  {
   "cell_type": "code",
   "execution_count": 2668,
   "metadata": {},
   "outputs": [
    {
     "data": {
      "text/plain": [
       "displ                   float64\n",
       "cyl                     float64\n",
       "drive                     int32\n",
       "fuel                     object\n",
       "veh_class                object\n",
       "air_pollution_score     float64\n",
       "city_mpg                  int32\n",
       "hwy_mpg                   int32\n",
       "cmb_mpg                   int32\n",
       "greenhouse_gas_score    float64\n",
       "smartway                 object\n",
       "dtype: object"
      ]
     },
     "execution_count": 2668,
     "metadata": {},
     "output_type": "execute_result"
    }
   ],
   "source": [
    "merged_df_copy.dtypes"
   ]
  },
  {
   "cell_type": "code",
   "execution_count": 2669,
   "metadata": {},
   "outputs": [
    {
     "data": {
      "text/plain": [
       "array(['Gasoline', 'ethanol', 'CNG', 'diesel', 'gas', 'Ethanol', 'Gas',\n",
       "       'Diesel', 'Electricity'], dtype=object)"
      ]
     },
     "execution_count": 2669,
     "metadata": {},
     "output_type": "execute_result"
    }
   ],
   "source": [
    "merged_df_copy[\"fuel\"].unique()"
   ]
  },
  {
   "cell_type": "code",
   "execution_count": 2670,
   "metadata": {},
   "outputs": [],
   "source": [
    "merged_df_copy[\"fuel\"]= merged_df_copy[\"fuel\"].replace([\"Gasoline\",\"Gas\",\"Ethanol\",\"Diesel\",\"Electricity\"],[\"gas\",\"gas\",\"ethanol\",\"diesel\",\"electricity\"])"
   ]
  },
  {
   "cell_type": "code",
   "execution_count": 2671,
   "metadata": {},
   "outputs": [
    {
     "data": {
      "text/plain": [
       "array(['gas', 'ethanol', 'CNG', 'diesel', 'electricity'], dtype=object)"
      ]
     },
     "execution_count": 2671,
     "metadata": {},
     "output_type": "execute_result"
    }
   ],
   "source": [
    "merged_df_copy[\"fuel\"].unique()"
   ]
  },
  {
   "cell_type": "code",
   "execution_count": 2672,
   "metadata": {},
   "outputs": [
    {
     "data": {
      "text/plain": [
       "array([4, 3, 0, 1, 2])"
      ]
     },
     "execution_count": 2672,
     "metadata": {},
     "output_type": "execute_result"
    }
   ],
   "source": [
    "merged_df_copy[\"fuel\"] = label_encoder.fit_transform(merged_df_copy[\"fuel\"] )\n",
    "merged_df_copy[\"fuel\"].unique()"
   ]
  },
  {
   "cell_type": "code",
   "execution_count": 2673,
   "metadata": {},
   "outputs": [],
   "source": [
    "merged_df_copy[\"veh_class\"] = label_encoder.fit_transform(merged_df_copy[\"veh_class\"])"
   ]
  },
  {
   "cell_type": "code",
   "execution_count": 2674,
   "metadata": {},
   "outputs": [
    {
     "data": {
      "text/plain": [
       "array([ 0,  2,  6,  9,  1,  3,  4, 10,  7,  5,  8])"
      ]
     },
     "execution_count": 2674,
     "metadata": {},
     "output_type": "execute_result"
    }
   ],
   "source": [
    "merged_df_copy[\"veh_class\"].unique()"
   ]
  },
  {
   "cell_type": "code",
   "execution_count": 2675,
   "metadata": {},
   "outputs": [
    {
     "data": {
      "text/plain": [
       "array(['no', 'yes', 'Elite', 'Yes', 'No'], dtype=object)"
      ]
     },
     "execution_count": 2675,
     "metadata": {},
     "output_type": "execute_result"
    }
   ],
   "source": [
    "merged_df_copy[\"smartway\"].unique()"
   ]
  },
  {
   "cell_type": "code",
   "execution_count": 2676,
   "metadata": {},
   "outputs": [],
   "source": [
    "#smartway variable has many values, as we want to build a binary logistic regression need to change to 2 values (Yes and No)"
   ]
  },
  {
   "cell_type": "code",
   "execution_count": 2677,
   "metadata": {},
   "outputs": [],
   "source": [
    "merged_df_copy[\"smartway\"] = merged_df_copy[\"smartway\"].replace([\"Yes\",\"Elite\",\"No\"],[\"yes\",\"yes\",\"no\"])"
   ]
  },
  {
   "cell_type": "code",
   "execution_count": 2678,
   "metadata": {},
   "outputs": [
    {
     "data": {
      "text/plain": [
       "array(['no', 'yes'], dtype=object)"
      ]
     },
     "execution_count": 2678,
     "metadata": {},
     "output_type": "execute_result"
    }
   ],
   "source": [
    "merged_df_copy[\"smartway\"].unique()"
   ]
  },
  {
   "cell_type": "code",
   "execution_count": 2679,
   "metadata": {},
   "outputs": [],
   "source": [
    "#Now our data is ready to build logistic regression model"
   ]
  },
  {
   "cell_type": "code",
   "execution_count": 2680,
   "metadata": {},
   "outputs": [
    {
     "data": {
      "text/html": [
       "<div>\n",
       "<style scoped>\n",
       "    .dataframe tbody tr th:only-of-type {\n",
       "        vertical-align: middle;\n",
       "    }\n",
       "\n",
       "    .dataframe tbody tr th {\n",
       "        vertical-align: top;\n",
       "    }\n",
       "\n",
       "    .dataframe thead th {\n",
       "        text-align: right;\n",
       "    }\n",
       "</style>\n",
       "<table border=\"1\" class=\"dataframe\">\n",
       "  <thead>\n",
       "    <tr style=\"text-align: right;\">\n",
       "      <th></th>\n",
       "      <th>displ</th>\n",
       "      <th>cyl</th>\n",
       "      <th>drive</th>\n",
       "      <th>fuel</th>\n",
       "      <th>veh_class</th>\n",
       "      <th>air_pollution_score</th>\n",
       "      <th>city_mpg</th>\n",
       "      <th>hwy_mpg</th>\n",
       "      <th>cmb_mpg</th>\n",
       "      <th>greenhouse_gas_score</th>\n",
       "      <th>smartway</th>\n",
       "    </tr>\n",
       "  </thead>\n",
       "  <tbody>\n",
       "    <tr>\n",
       "      <th>0</th>\n",
       "      <td>3.7</td>\n",
       "      <td>6.0</td>\n",
       "      <td>4</td>\n",
       "      <td>4</td>\n",
       "      <td>0</td>\n",
       "      <td>7.0</td>\n",
       "      <td>15</td>\n",
       "      <td>20</td>\n",
       "      <td>17</td>\n",
       "      <td>4.0</td>\n",
       "      <td>no</td>\n",
       "    </tr>\n",
       "    <tr>\n",
       "      <th>1</th>\n",
       "      <td>3.7</td>\n",
       "      <td>6.0</td>\n",
       "      <td>4</td>\n",
       "      <td>4</td>\n",
       "      <td>0</td>\n",
       "      <td>6.0</td>\n",
       "      <td>15</td>\n",
       "      <td>20</td>\n",
       "      <td>17</td>\n",
       "      <td>4.0</td>\n",
       "      <td>no</td>\n",
       "    </tr>\n",
       "    <tr>\n",
       "      <th>2</th>\n",
       "      <td>2.3</td>\n",
       "      <td>4.0</td>\n",
       "      <td>4</td>\n",
       "      <td>4</td>\n",
       "      <td>0</td>\n",
       "      <td>7.0</td>\n",
       "      <td>17</td>\n",
       "      <td>22</td>\n",
       "      <td>19</td>\n",
       "      <td>5.0</td>\n",
       "      <td>no</td>\n",
       "    </tr>\n",
       "    <tr>\n",
       "      <th>3</th>\n",
       "      <td>2.3</td>\n",
       "      <td>4.0</td>\n",
       "      <td>4</td>\n",
       "      <td>4</td>\n",
       "      <td>0</td>\n",
       "      <td>6.0</td>\n",
       "      <td>17</td>\n",
       "      <td>22</td>\n",
       "      <td>19</td>\n",
       "      <td>5.0</td>\n",
       "      <td>no</td>\n",
       "    </tr>\n",
       "    <tr>\n",
       "      <th>4</th>\n",
       "      <td>3.5</td>\n",
       "      <td>6.0</td>\n",
       "      <td>4</td>\n",
       "      <td>4</td>\n",
       "      <td>2</td>\n",
       "      <td>7.0</td>\n",
       "      <td>16</td>\n",
       "      <td>24</td>\n",
       "      <td>19</td>\n",
       "      <td>5.0</td>\n",
       "      <td>no</td>\n",
       "    </tr>\n",
       "    <tr>\n",
       "      <th>...</th>\n",
       "      <td>...</td>\n",
       "      <td>...</td>\n",
       "      <td>...</td>\n",
       "      <td>...</td>\n",
       "      <td>...</td>\n",
       "      <td>...</td>\n",
       "      <td>...</td>\n",
       "      <td>...</td>\n",
       "      <td>...</td>\n",
       "      <td>...</td>\n",
       "      <td>...</td>\n",
       "    </tr>\n",
       "    <tr>\n",
       "      <th>26955</th>\n",
       "      <td>2.0</td>\n",
       "      <td>4.0</td>\n",
       "      <td>4</td>\n",
       "      <td>2</td>\n",
       "      <td>2</td>\n",
       "      <td>7.0</td>\n",
       "      <td>70</td>\n",
       "      <td>72</td>\n",
       "      <td>71</td>\n",
       "      <td>10.0</td>\n",
       "      <td>yes</td>\n",
       "    </tr>\n",
       "    <tr>\n",
       "      <th>26956</th>\n",
       "      <td>2.0</td>\n",
       "      <td>4.0</td>\n",
       "      <td>4</td>\n",
       "      <td>2</td>\n",
       "      <td>5</td>\n",
       "      <td>7.0</td>\n",
       "      <td>60</td>\n",
       "      <td>58</td>\n",
       "      <td>59</td>\n",
       "      <td>10.0</td>\n",
       "      <td>yes</td>\n",
       "    </tr>\n",
       "    <tr>\n",
       "      <th>26957</th>\n",
       "      <td>2.0</td>\n",
       "      <td>4.0</td>\n",
       "      <td>4</td>\n",
       "      <td>2</td>\n",
       "      <td>5</td>\n",
       "      <td>7.0</td>\n",
       "      <td>60</td>\n",
       "      <td>58</td>\n",
       "      <td>59</td>\n",
       "      <td>10.0</td>\n",
       "      <td>yes</td>\n",
       "    </tr>\n",
       "    <tr>\n",
       "      <th>26958</th>\n",
       "      <td>2.0</td>\n",
       "      <td>4.0</td>\n",
       "      <td>4</td>\n",
       "      <td>2</td>\n",
       "      <td>8</td>\n",
       "      <td>7.0</td>\n",
       "      <td>63</td>\n",
       "      <td>61</td>\n",
       "      <td>62</td>\n",
       "      <td>10.0</td>\n",
       "      <td>yes</td>\n",
       "    </tr>\n",
       "    <tr>\n",
       "      <th>26959</th>\n",
       "      <td>2.0</td>\n",
       "      <td>4.0</td>\n",
       "      <td>4</td>\n",
       "      <td>2</td>\n",
       "      <td>8</td>\n",
       "      <td>7.0</td>\n",
       "      <td>63</td>\n",
       "      <td>61</td>\n",
       "      <td>62</td>\n",
       "      <td>10.0</td>\n",
       "      <td>yes</td>\n",
       "    </tr>\n",
       "  </tbody>\n",
       "</table>\n",
       "<p>26960 rows × 11 columns</p>\n",
       "</div>"
      ],
      "text/plain": [
       "       displ  cyl  drive  fuel  veh_class  air_pollution_score  city_mpg  \\\n",
       "0        3.7  6.0      4     4          0                  7.0        15   \n",
       "1        3.7  6.0      4     4          0                  6.0        15   \n",
       "2        2.3  4.0      4     4          0                  7.0        17   \n",
       "3        2.3  4.0      4     4          0                  6.0        17   \n",
       "4        3.5  6.0      4     4          2                  7.0        16   \n",
       "...      ...  ...    ...   ...        ...                  ...       ...   \n",
       "26955    2.0  4.0      4     2          2                  7.0        70   \n",
       "26956    2.0  4.0      4     2          5                  7.0        60   \n",
       "26957    2.0  4.0      4     2          5                  7.0        60   \n",
       "26958    2.0  4.0      4     2          8                  7.0        63   \n",
       "26959    2.0  4.0      4     2          8                  7.0        63   \n",
       "\n",
       "       hwy_mpg  cmb_mpg  greenhouse_gas_score smartway  \n",
       "0           20       17                   4.0       no  \n",
       "1           20       17                   4.0       no  \n",
       "2           22       19                   5.0       no  \n",
       "3           22       19                   5.0       no  \n",
       "4           24       19                   5.0       no  \n",
       "...        ...      ...                   ...      ...  \n",
       "26955       72       71                  10.0      yes  \n",
       "26956       58       59                  10.0      yes  \n",
       "26957       58       59                  10.0      yes  \n",
       "26958       61       62                  10.0      yes  \n",
       "26959       61       62                  10.0      yes  \n",
       "\n",
       "[26960 rows x 11 columns]"
      ]
     },
     "execution_count": 2680,
     "metadata": {},
     "output_type": "execute_result"
    }
   ],
   "source": [
    "merged_df_copy"
   ]
  },
  {
   "cell_type": "code",
   "execution_count": 2681,
   "metadata": {},
   "outputs": [],
   "source": [
    "merged_df_copy = merged_df_copy.dropna()"
   ]
  },
  {
   "cell_type": "code",
   "execution_count": 2682,
   "metadata": {},
   "outputs": [],
   "source": [
    "X = merged_df_copy.drop(columns=[\"smartway\"])"
   ]
  },
  {
   "cell_type": "code",
   "execution_count": 2683,
   "metadata": {},
   "outputs": [],
   "source": [
    "Y = merged_df_copy['smartway']"
   ]
  },
  {
   "cell_type": "code",
   "execution_count": 2684,
   "metadata": {},
   "outputs": [],
   "source": [
    "X_train,X_test,Y_train,Y_test = train_test_split(X,Y,test_size=0.2)"
   ]
  },
  {
   "cell_type": "code",
   "execution_count": 2685,
   "metadata": {},
   "outputs": [
    {
     "name": "stdout",
     "output_type": "stream",
     "text": [
      "X_train shape ----> (21567, 10)\n",
      "X_test shape ----> (5392, 10)\n",
      "Y_train shape ----> (21567,)\n",
      "Y_test shape ----> (5392,)\n"
     ]
    }
   ],
   "source": [
    "print(\"X_train shape ---->\",X_train.shape)\n",
    "print(\"X_test shape ---->\",X_test.shape)\n",
    "print(\"Y_train shape ---->\",Y_train.shape)\n",
    "print(\"Y_test shape ---->\",Y_test.shape)"
   ]
  },
  {
   "cell_type": "code",
   "execution_count": 2686,
   "metadata": {},
   "outputs": [],
   "source": [
    "from sklearn.linear_model import LogisticRegression\n",
    "\n",
    "lr_obj = LogisticRegression(C=0.01,solver=\"liblinear\")\n",
    "lr = lr_obj.fit(X_train,Y_train)"
   ]
  },
  {
   "cell_type": "code",
   "execution_count": 2687,
   "metadata": {},
   "outputs": [],
   "source": [
    "Y_hat = lr.predict(X_test)"
   ]
  },
  {
   "cell_type": "code",
   "execution_count": 2688,
   "metadata": {},
   "outputs": [],
   "source": [
    "Y_hat_proba = lr.predict_proba(X_test)"
   ]
  },
  {
   "cell_type": "markdown",
   "metadata": {},
   "source": [
    "#### Accuracy score of Logistic regression model"
   ]
  },
  {
   "cell_type": "code",
   "execution_count": 2701,
   "metadata": {},
   "outputs": [
    {
     "name": "stdout",
     "output_type": "stream",
     "text": [
      "log_loss =  0.16579713642691535\n",
      "Accuracy score =  0.9362017804154302\n"
     ]
    }
   ],
   "source": [
    "from sklearn.metrics import log_loss,accuracy_score\n",
    "\n",
    "print(\"log_loss = \",log_loss(Y_test,Y_hat_proba))\n",
    "print(\"Accuracy score = \",accuracy_score(Y_test,Y_hat))"
   ]
  },
  {
   "cell_type": "code",
   "execution_count": 2690,
   "metadata": {},
   "outputs": [],
   "source": [
    "predicted = pd.Series(Y_hat)"
   ]
  },
  {
   "cell_type": "code",
   "execution_count": 2691,
   "metadata": {},
   "outputs": [],
   "source": [
    "predicted_val = lr.predict(X)"
   ]
  },
  {
   "cell_type": "code",
   "execution_count": 2692,
   "metadata": {},
   "outputs": [],
   "source": [
    "predicted_val = pd.Series(predicted_val)"
   ]
  },
  {
   "cell_type": "code",
   "execution_count": 2693,
   "metadata": {},
   "outputs": [
    {
     "name": "stderr",
     "output_type": "stream",
     "text": [
      "C:\\ProgramData\\Anaconda3\\lib\\site-packages\\ipykernel_launcher.py:1: SettingWithCopyWarning: \n",
      "A value is trying to be set on a copy of a slice from a DataFrame.\n",
      "Try using .loc[row_indexer,col_indexer] = value instead\n",
      "\n",
      "See the caveats in the documentation: https://pandas.pydata.org/pandas-docs/stable/user_guide/indexing.html#returning-a-view-versus-a-copy\n",
      "  \"\"\"Entry point for launching an IPython kernel.\n"
     ]
    }
   ],
   "source": [
    "merged_df_copy[\"predicted_values\"] = predicted_val"
   ]
  },
  {
   "cell_type": "code",
   "execution_count": 2697,
   "metadata": {},
   "outputs": [
    {
     "data": {
      "text/html": [
       "<div>\n",
       "<style scoped>\n",
       "    .dataframe tbody tr th:only-of-type {\n",
       "        vertical-align: middle;\n",
       "    }\n",
       "\n",
       "    .dataframe tbody tr th {\n",
       "        vertical-align: top;\n",
       "    }\n",
       "\n",
       "    .dataframe thead th {\n",
       "        text-align: right;\n",
       "    }\n",
       "</style>\n",
       "<table border=\"1\" class=\"dataframe\">\n",
       "  <thead>\n",
       "    <tr style=\"text-align: right;\">\n",
       "      <th></th>\n",
       "      <th>displ</th>\n",
       "      <th>cyl</th>\n",
       "      <th>drive</th>\n",
       "      <th>fuel</th>\n",
       "      <th>veh_class</th>\n",
       "      <th>air_pollution_score</th>\n",
       "      <th>city_mpg</th>\n",
       "      <th>hwy_mpg</th>\n",
       "      <th>cmb_mpg</th>\n",
       "      <th>greenhouse_gas_score</th>\n",
       "      <th>smartway</th>\n",
       "      <th>predicted_values</th>\n",
       "    </tr>\n",
       "  </thead>\n",
       "  <tbody>\n",
       "    <tr>\n",
       "      <th>0</th>\n",
       "      <td>3.7</td>\n",
       "      <td>6.0</td>\n",
       "      <td>4</td>\n",
       "      <td>4</td>\n",
       "      <td>0</td>\n",
       "      <td>7.0</td>\n",
       "      <td>15</td>\n",
       "      <td>20</td>\n",
       "      <td>17</td>\n",
       "      <td>4.0</td>\n",
       "      <td>no</td>\n",
       "      <td>no</td>\n",
       "    </tr>\n",
       "    <tr>\n",
       "      <th>1</th>\n",
       "      <td>3.7</td>\n",
       "      <td>6.0</td>\n",
       "      <td>4</td>\n",
       "      <td>4</td>\n",
       "      <td>0</td>\n",
       "      <td>6.0</td>\n",
       "      <td>15</td>\n",
       "      <td>20</td>\n",
       "      <td>17</td>\n",
       "      <td>4.0</td>\n",
       "      <td>no</td>\n",
       "      <td>no</td>\n",
       "    </tr>\n",
       "    <tr>\n",
       "      <th>2</th>\n",
       "      <td>2.3</td>\n",
       "      <td>4.0</td>\n",
       "      <td>4</td>\n",
       "      <td>4</td>\n",
       "      <td>0</td>\n",
       "      <td>7.0</td>\n",
       "      <td>17</td>\n",
       "      <td>22</td>\n",
       "      <td>19</td>\n",
       "      <td>5.0</td>\n",
       "      <td>no</td>\n",
       "      <td>no</td>\n",
       "    </tr>\n",
       "    <tr>\n",
       "      <th>3</th>\n",
       "      <td>2.3</td>\n",
       "      <td>4.0</td>\n",
       "      <td>4</td>\n",
       "      <td>4</td>\n",
       "      <td>0</td>\n",
       "      <td>6.0</td>\n",
       "      <td>17</td>\n",
       "      <td>22</td>\n",
       "      <td>19</td>\n",
       "      <td>5.0</td>\n",
       "      <td>no</td>\n",
       "      <td>no</td>\n",
       "    </tr>\n",
       "    <tr>\n",
       "      <th>4</th>\n",
       "      <td>3.5</td>\n",
       "      <td>6.0</td>\n",
       "      <td>4</td>\n",
       "      <td>4</td>\n",
       "      <td>2</td>\n",
       "      <td>7.0</td>\n",
       "      <td>16</td>\n",
       "      <td>24</td>\n",
       "      <td>19</td>\n",
       "      <td>5.0</td>\n",
       "      <td>no</td>\n",
       "      <td>no</td>\n",
       "    </tr>\n",
       "  </tbody>\n",
       "</table>\n",
       "</div>"
      ],
      "text/plain": [
       "   displ  cyl  drive  fuel  veh_class  air_pollution_score  city_mpg  hwy_mpg  \\\n",
       "0    3.7  6.0      4     4          0                  7.0        15       20   \n",
       "1    3.7  6.0      4     4          0                  6.0        15       20   \n",
       "2    2.3  4.0      4     4          0                  7.0        17       22   \n",
       "3    2.3  4.0      4     4          0                  6.0        17       22   \n",
       "4    3.5  6.0      4     4          2                  7.0        16       24   \n",
       "\n",
       "   cmb_mpg  greenhouse_gas_score smartway predicted_values  \n",
       "0       17                   4.0       no               no  \n",
       "1       17                   4.0       no               no  \n",
       "2       19                   5.0       no               no  \n",
       "3       19                   5.0       no               no  \n",
       "4       19                   5.0       no               no  "
      ]
     },
     "execution_count": 2697,
     "metadata": {},
     "output_type": "execute_result"
    }
   ],
   "source": [
    "merged_df_copy.head()"
   ]
  }
 ],
 "metadata": {
  "kernelspec": {
   "display_name": "Python 3",
   "language": "python",
   "name": "python3"
  },
  "language_info": {
   "codemirror_mode": {
    "name": "ipython",
    "version": 3
   },
   "file_extension": ".py",
   "mimetype": "text/x-python",
   "name": "python",
   "nbconvert_exporter": "python",
   "pygments_lexer": "ipython3",
   "version": "3.7.6"
  }
 },
 "nbformat": 4,
 "nbformat_minor": 4
}
